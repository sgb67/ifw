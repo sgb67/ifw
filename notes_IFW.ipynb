{
 "cells": [
  {
   "cell_type": "markdown",
   "metadata": {},
   "source": [
    "# Notes IFW paper"
   ]
  },
  {
   "cell_type": "markdown",
   "metadata": {},
   "source": [
    "### Optimisation IFW\n",
    "1. Pairwise hypothesis test TRIANGLE - DONE\n",
    "2. Only calculate ESS for significant - DONE\n",
    "\n",
    "\n",
    "About 100% increase in efficiency from 1), very marginal from 2): something else is taking up resources.\n",
    "\n",
    "### Apply IFW to other synthetic datasets\n",
    "Distributions are different - different discretisation needed?\n",
    "- Tried with regular discretisation first. Some nans generated in significance matrix due to empty genes - REMOVED.\n",
    "- High housekeeping gene expression poses a problem - high background network connectivity. HKs identified as a module.\n",
    "    - In these cases normalising by edges makes a big difference..."
   ]
  },
  {
   "cell_type": "markdown",
   "metadata": {},
   "source": []
  }
 ],
 "metadata": {
  "language_info": {
   "name": "python"
  }
 },
 "nbformat": 4,
 "nbformat_minor": 2
}
