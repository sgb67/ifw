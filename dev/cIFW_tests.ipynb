{
 "cells": [
  {
   "cell_type": "markdown",
   "metadata": {},
   "source": [
    "# Continuous IFW method changes"
   ]
  },
  {
   "cell_type": "markdown",
   "metadata": {},
   "source": [
    "#### Aims of a single function (+ parallelised)\n",
    "- Calculate independent entropy of *significant feature*\n",
    "- Calculate I (entropic) between that feature and those in sign_comp (significant interactions)\n",
    "- Output information-theoretical omega\n",
    "- When parallelised, recreate matrix as with bIFW"
   ]
  },
  {
   "cell_type": "markdown",
   "metadata": {},
   "source": [
    "### Entropy calculation for toy genes"
   ]
  },
  {
   "cell_type": "code",
   "execution_count": 1,
   "metadata": {},
   "outputs": [],
   "source": [
    "# import packages\n",
    "import pandas as pd\n",
    "import numpy as np\n",
    "from functools import partial\n",
    "from os.path import exists\n",
    "import multiprocess\n",
    "import scipy.sparse\n",
    "import matplotlib.pyplot as plt\n",
    "from p_tqdm import p_map\n",
    "from scipy.stats import gaussian_kde\n",
    "from scipy.integrate import quad\n",
    "from sklearn.feature_selection import mutual_info_regression\n",
    "import random\n",
    "from scipy.integrate import dblquad"
   ]
  },
  {
   "cell_type": "code",
   "execution_count": 16,
   "metadata": {},
   "outputs": [
    {
     "data": {
      "text/plain": [
       "[0.2, 0.2, 0.2, 0.2, 0, 0.8, 0.8, 0.8, 0.8, 0.8, 0.8, 0.8, 0.8, 0, 0, 0]"
      ]
     },
     "execution_count": 16,
     "metadata": {},
     "output_type": "execute_result"
    }
   ],
   "source": [
    "# create toy data\n",
    "def toy_gene(numbers, values):\n",
    "    gene = []\n",
    "    for i, n in enumerate(numbers):\n",
    "        for times in range(n):\n",
    "            gene.append(values[i])\n",
    "    return gene\n",
    "\n",
    "toy_gene([4,1,8,3], [0.2,0,0.8,0])"
   ]
  },
  {
   "cell_type": "code",
   "execution_count": 31,
   "metadata": {},
   "outputs": [],
   "source": [
    "def toy_entropy(f1, alternative_entropy = False, evaluation_check = False):\n",
    "    feature = f1    \n",
    "    p0 = np.sum(feature == 0) / len(feature) if len(feature) > 0 else 0\n",
    "    # Probability of zero\n",
    "    non_zero_data = feature[feature != 0]\n",
    "\n",
    "    # KDE for the non-zero part\n",
    "    kde = gaussian_kde(non_zero_data)\n",
    "\n",
    "    # Get the normalization factor by integrating KDE over the range of non-zero values\n",
    "    #kde_normalisation_factor, _ = quad(lambda x: kde(x), 0, max(feature))\n",
    "\n",
    "    # Combined PDF\n",
    "    def combined_pdf(x):\n",
    "        if x == 0:\n",
    "            return p0 #/ kde_normalisation_factor\n",
    "        else:\n",
    "            return (1 - p0) * kde(x) #/ kde_normalisation_factor # sometimes we don't need it, but it helps\n",
    "\n",
    "    integration_result, _ = quad(combined_pdf, 0, max(feature))\n",
    "\n",
    "    # Check normalization (should be close to 1)\n",
    "    normalisation_result = integration_result + p0  # Add p0 for the zero-inflated part\n",
    "    if normalisation_result > 1 or normalisation_result < 0.95:\n",
    "        print(f'\\nNormalisation check unsuccessful. It should be close to 1 and it equals {normalisation_result}. This can lead to negative entropies. Proceeding with using summation instead of integration.')\n",
    "\n",
    "    \n",
    "    # Safe logarithm function\n",
    "    def safe_log(x):\n",
    "        return np.log(x) if x > 0 else 0\n",
    "\n",
    "    # Combined PDF with log for entropy calculation\n",
    "    def combined_pdf_log(x):\n",
    "        fx = combined_pdf(x)\n",
    "        return -fx * safe_log(fx)\n",
    "    \n",
    "    entropy_non_zero, _ = quad(combined_pdf_log, 0, max(feature))\n",
    "    entropy_zero = -p0 * safe_log(p0)\n",
    "    entropy = entropy_non_zero + entropy_zero\n",
    "\n",
    "    if alternative_entropy == False:\n",
    "        return entropy\n",
    "    \n",
    "    if alternative_entropy == True:\n",
    "        # alternative entropy estimation: use sums\n",
    "        x_values = np.arange(0, max(feature) + 1)\n",
    "        pdf_log_values = [combined_pdf_log(x) for x in x_values]\n",
    "        entropy_estimate = np.sum(pdf_log_values)\n",
    "        return entropy, entropy_estimate\n",
    "\n",
    "    if evaluation_check == True:\n",
    "        print(f'\\nNormalisation check, it should be close to 1: {normalisation_result}.')\n",
    "        x_values = np.arange(0, max(feature) + 1)\n",
    "        pdf_values = [combined_pdf(x) for x in x_values[0:np.random.randint(0,len(x_values), 10)]]\n",
    "        log_values = [safe_log(fx) for fx in pdf_values[0:np.random.randint(0,len(x_values), 10)]]\n",
    "        print(\"\\n10 random x values:\", x_values[0:np.random.randint(0,len(x_values), 10)])\n",
    "        print(\"PDF values:\", pdf_values[0:np.random.randint(0,len(x_values), 10)])\n",
    "        print(\"Log values:\", log_values[0:np.random.randint(0,len(x_values), 10)])\n"
   ]
  },
  {
   "cell_type": "code",
   "execution_count": 35,
   "metadata": {},
   "outputs": [],
   "source": [
    "def simple_entropy(feature, kde_bandwith = None):\n",
    "    # Probability of zero and data that is nonzero\n",
    "    p0 = np.sum(feature == 0) / len(feature) if len(feature) > 0 else 0\n",
    "    non_zero_data = feature[feature != 0]\n",
    "\n",
    "    # zero  (H1)\n",
    "    def safe_log(x):\n",
    "        return np.log2(x) if x > 0 else 0\n",
    "    entropy_zero = -p0 * safe_log(p0)\n",
    "\n",
    "    # H2 (simplified)\n",
    "    # KDE for the non-zero part\n",
    "    kde = gaussian_kde(non_zero_data, bw_method=kde_bandwith)\n",
    "    x = np.linspace(-0.5*max(feature), max(feature)*1.5, 10000)\n",
    "    print(f\"KDE normalisation check: {np.trapz(kde(x), x)}\")\n",
    "    # Simplified kde integration\n",
    "    def h_integrand(fx):\n",
    "        return fx * safe_log(fx)\n",
    "    def kde_integrand(x):\n",
    "        return kde(x) * safe_log(kde(x))\n",
    "    \n",
    "    kde_part_H2, _ = quad(kde_integrand, 0, max(feature))\n",
    "    entropy_non_zero = -h_integrand(1-p0) - (1-p0) * kde_part_H2\n",
    "    \n",
    "    # Combined entropy\n",
    "    entropy = entropy_non_zero + entropy_zero\n",
    "    return entropy\n"
   ]
  },
  {
   "cell_type": "code",
   "execution_count": 36,
   "metadata": {},
   "outputs": [
    {
     "name": "stdout",
     "output_type": "stream",
     "text": [
      "KDE normalisation check: 0.9911803929360335\n"
     ]
    },
    {
     "data": {
      "text/plain": [
       "0.9353219315102816"
      ]
     },
     "execution_count": 36,
     "metadata": {},
     "output_type": "execute_result"
    }
   ],
   "source": [
    "toy_gene1 = toy_gene([4,1,8,3], [0.2,0,0.8,0])\n",
    "simple_entropy(np.array(toy_gene1))"
   ]
  },
  {
   "cell_type": "code",
   "execution_count": 27,
   "metadata": {},
   "outputs": [
    {
     "name": "stdout",
     "output_type": "stream",
     "text": [
      "KDE normalisation check: 0.999999999999467\n",
      "KDE normalisation check: 0.9999999984885615\n",
      "[0.45416599595886653, 0.6276190354205204]\n"
     ]
    }
   ],
   "source": [
    "# entropy\n",
    "f0 = np.array([0.9, 0.78, 0.69, 0.9, 0.8, 0, 0, 0, 0, 0])\n",
    "f1 = np.array([0.9, 0.78, 0.69, 0.9, 0, 0, 0, 0, 0, 0])\n",
    "\n",
    "f= [f0,f1]\n",
    "\n",
    "H = []\n",
    "for feat in f:\n",
    "    entropy = simple_entropy(feat)\n",
    "    H.append(entropy)\n",
    "print(H)"
   ]
  },
  {
   "cell_type": "code",
   "execution_count": 28,
   "metadata": {},
   "outputs": [
    {
     "name": "stdout",
     "output_type": "stream",
     "text": [
      "KDE normalisation check: 1.0\n",
      "KDE normalisation check: 0.9999999999999998\n",
      "[0.36218157782519667, 0.27158509172499845]\n"
     ]
    }
   ],
   "source": [
    "# entropy\n",
    "f0 = np.array([0.9, 0.98, 0.99, 0.9, 0.8, 0, 0, 0, 0, 0])\n",
    "f1 = np.array([0.9, 0.98, 0.99, 0.9, 0, 0, 0, 0, 0, 0])\n",
    "\n",
    "f= [f0,f1]\n",
    "\n",
    "H = []\n",
    "for feat in f:\n",
    "    entropy = simple_entropy(feat)\n",
    "    H.append(entropy)\n",
    "print(H)"
   ]
  },
  {
   "cell_type": "code",
   "execution_count": 44,
   "metadata": {},
   "outputs": [
    {
     "name": "stdout",
     "output_type": "stream",
     "text": [
      "KDE normalisation check: 0.9997380902202165\n",
      "KDE normalisation check: 0.9999999999144517\n",
      "KDE normalisation check: 1.0000000000000002\n",
      "KDE normalisation check: 0.9999999999999999\n",
      "[0.7931942315573166, 0.5910109551643863, 0.054115083078609294, 0.42709458674684336]\n"
     ]
    }
   ],
   "source": [
    "# entropy\n",
    "f0 = np.array([0.99, 0.98, 0.99, 0.9, 0.8, 0, 0, 0, 0, 0])\n",
    "f1 = np.array([0.99, 0.98, 0.99, 0.9, 0, 0, 0, 0, 0, 0])\n",
    "f2 = np.array([0.99, 0.98, 0.99, 0, 0, 0, 0, 0, 0, 0])\n",
    "f3 = np.array([0.99, 0.95, 0, 0, 0, 0, 0, 0, 0, 0])\n",
    "\n",
    "f= [f0,f1, f2, f3]\n",
    "\n",
    "H = []\n",
    "for feat in f:\n",
    "    entropy = simple_entropy(feat, kde_bandwith = 1.8)\n",
    "    H.append(entropy)\n",
    "print(H)"
   ]
  },
  {
   "cell_type": "code",
   "execution_count": 47,
   "metadata": {},
   "outputs": [
    {
     "name": "stdout",
     "output_type": "stream",
     "text": [
      "KDE normalisation check: 1.0000000000000002\n",
      "KDE normalisation check: 1.0000000000000002\n",
      "KDE normalisation check: 0.9999999999999998\n",
      "KDE normalisation check: 1.0000000000000002\n",
      "[0.503498667247195, 0.36914726909251605, -0.1611759293531077, 0.27222310552086953]\n"
     ]
    }
   ],
   "source": [
    "# entropy\n",
    "f0 = np.array([0.99, 0.98, 0.99, 0.9, 0.8, 0, 0, 0, 0, 0])\n",
    "f1 = np.array([0.99, 0.98, 0.99, 0.9, 0, 0, 0, 0, 0, 0])\n",
    "f2 = np.array([0.99, 0.98, 0.99, 0, 0, 0, 0, 0, 0, 0])\n",
    "f3 = np.array([0.99, 0.95, 0, 0, 0, 0, 0, 0, 0, 0])\n",
    "\n",
    "f= [f0,f1, f2, f3]\n",
    "\n",
    "H = []\n",
    "for feat in f:\n",
    "    entropy = simple_entropy(feat)\n",
    "    H.append(entropy)\n",
    "print(H)"
   ]
  },
  {
   "cell_type": "code",
   "execution_count": 46,
   "metadata": {},
   "outputs": [
    {
     "data": {
      "image/png": "[encoded data removed]",
      "text/plain": [
       "<Figure size 640x480 with 1 Axes>"
      ]
     },
     "metadata": {},
     "output_type": "display_data"
    }
   ],
   "source": [
    "import numpy as np\n",
    "import matplotlib.pyplot as plt\n",
    "from scipy.stats import gaussian_kde\n",
    "\n",
    "# Sample data\n",
    "data =  np.array([0.99, 0.98, 0.99])\n",
    "\n",
    "# KDE with different bandwidths\n",
    "kde_default = gaussian_kde(data)\n",
    "kde_custom = gaussian_kde(data, bw_method=1.8)\n",
    "\n",
    "# Plot\n",
    "x = np.linspace(-5, 5, 1000)\n",
    "plt.plot(x, kde_default(x), label=\"Default Bandwidth\")\n",
    "plt.plot(x, kde_custom(x), label=\"Custom Bandwidth (1.8)\")\n",
    "plt.hist(data)\n",
    "plt.legend()\n",
    "plt.show()\n"
   ]
  },
  {
   "cell_type": "markdown",
   "metadata": {},
   "source": [
    "to prevent negative entropies, check if a feature only has values close to 1, then increase the bandwidth until the entropy is bigger than 0?\n",
    "\n",
    "in that case make sure that the comparison has the same bandwidth...?"
   ]
  },
  {
   "cell_type": "code",
   "execution_count": 2,
   "metadata": {},
   "outputs": [
    {
     "name": "stdout",
     "output_type": "stream",
     "text": [
      "5.694837446662804 5.91271714027574\n"
     ]
    }
   ],
   "source": [
    "# from chatgpt... can simply sum\n",
    "from scipy.stats import gaussian_kde\n",
    "\n",
    "# Function to calculate zero-inflated entropy\n",
    "def zero_inflated_entropy(data, kde_bandwidth=0.1):\n",
    "    \"\"\"\n",
    "    Calculate the zero-inflated entropy for a dataset.\n",
    "    \n",
    "    Parameters:\n",
    "    - data: The input data (array-like).\n",
    "    - kde_bandwidth: Bandwidth for KDE estimation.\n",
    "    \n",
    "    Returns:\n",
    "    - entropy: The zero-inflated entropy.\n",
    "    \"\"\"\n",
    "    # Count the number of zeros and nonzeros\n",
    "    total_count = len(data)\n",
    "    zero_count = np.sum(data == 0)\n",
    "    nonzero_data = data[data > 0]\n",
    "\n",
    "    # Calculate the zero probability (p0)\n",
    "    p0 = zero_count / total_count\n",
    "\n",
    "    # Contribution from the zero-probability term\n",
    "    zero_entropy = 0 if p0 == 0 else -p0 * np.log2(p0)\n",
    "\n",
    "    # KDE for the nonzero data\n",
    "    if len(nonzero_data) > 0:\n",
    "        kde = gaussian_kde(nonzero_data, bw_method=kde_bandwidth)\n",
    "        # Create a fine grid for KDE evaluation\n",
    "        grid = np.linspace(0, np.max(nonzero_data) * 1.1, 1000)\n",
    "        kde_density = kde(grid) * (1 - p0)  # Scale density to (1 - p0)\n",
    "        kde_density = kde_density / kde_density.sum()  # Normalize\n",
    "        nonzero_entropy = -np.sum(kde_density * np.log2(kde_density + 1e-10))\n",
    "    else:\n",
    "        nonzero_entropy = 0\n",
    "\n",
    "    # Total entropy\n",
    "    total_entropy = zero_entropy + nonzero_entropy\n",
    "    return total_entropy\n",
    "\n",
    "# Define the vectors\n",
    "vector3 = np.array([0.9, 0.98, 0, 0, 0, 0, 0, 0, 0, 0])\n",
    "vector4 = np.array([0.9, 0.98, 0.99, 0.9, 0, 0, 0, 0, 0, 0])\n",
    "\n",
    "# Calculate zero-inflated entropy for both vectors\n",
    "entropy_vector3_zi = zero_inflated_entropy(vector3)\n",
    "entropy_vector4_zi = zero_inflated_entropy(vector4)\n",
    "\n",
    "print(entropy_vector3_zi, entropy_vector4_zi)\n"
   ]
  },
  {
   "cell_type": "code",
   "execution_count": null,
   "metadata": {},
   "outputs": [
    {
     "data": {
      "text/plain": [
       "(-0.16180964503282597, -0.7773690503447938)"
      ]
     },
     "metadata": {},
     "output_type": "display_data"
    }
   ],
   "source": [
    "# from chatgpt... can simply sum\n",
    "from scipy.stats import gaussian_kde\n",
    "import numpy as np\n",
    "from scipy.stats import gaussian_kde\n",
    "from scipy.integrate import quad\n",
    "\n",
    "def zero_inflated_entropy_integration(data, kde_bandwidth=0.1):\n",
    "    \"\"\"\n",
    "    Calculate the zero-inflated entropy using integration.\n",
    "    \n",
    "    Parameters:\n",
    "    - data: The input data (array-like).\n",
    "    - kde_bandwidth: Bandwidth for KDE estimation.\n",
    "    \n",
    "    Returns:\n",
    "    - entropy: The zero-inflated entropy.\n",
    "    \"\"\"\n",
    "    # Count the number of zeros and nonzeros\n",
    "    total_count = len(data)\n",
    "    zero_count = np.sum(data == 0)\n",
    "    nonzero_data = data[data > 0]\n",
    "\n",
    "    # Calculate the zero probability (p0)\n",
    "    p0 = zero_count / total_count\n",
    "\n",
    "    # Contribution from the zero-probability term\n",
    "    zero_entropy = 0 if p0 == 0 else -p0 * np.log2(p0)\n",
    "\n",
    "    # KDE for the nonzero data\n",
    "    if len(nonzero_data) > 0:\n",
    "        kde = gaussian_kde(nonzero_data, bw_method=kde_bandwidth)\n",
    "\n",
    "        # Define the entropy function for integration\n",
    "        def entropy_integrand(x):\n",
    "            density = kde(x) * (1 - p0)  # Scale density to (1 - p0)\n",
    "            return -density * np.log2(density + 1e-10)\n",
    "\n",
    "        # Integration bounds (from 0 to slightly above max nonzero value)\n",
    "        lower_bound = 0\n",
    "        upper_bound = np.max(nonzero_data) * 1.1\n",
    "\n",
    "        # Numerically integrate the entropy\n",
    "        nonzero_entropy, _ = quad(entropy_integrand, lower_bound, upper_bound)\n",
    "    else:\n",
    "        nonzero_entropy = 0\n",
    "\n",
    "    # Total entropy\n",
    "    total_entropy = zero_entropy + nonzero_entropy\n",
    "    return total_entropy\n",
    "\n",
    "# Define the vectors\n",
    "vector3 = np.array([0.9, 0.98, 0, 0, 0, 0, 0, 0, 0, 0])\n",
    "vector4 = np.array([0.9, 0.98, 0.99, 0.9, 0, 0, 0, 0, 0, 0])\n",
    "\n",
    "# Calculate zero-inflated entropy for both vectors\n",
    "entropy_vector3_zi = zero_inflated_entropy_integration(vector3)\n",
    "entropy_vector4_zi = zero_inflated_entropy_integration(vector4)\n",
    "\n",
    "entropy_vector3_zi, entropy_vector4_zi\n",
    "\n"
   ]
  },
  {
   "cell_type": "code",
   "execution_count": 27,
   "metadata": {},
   "outputs": [
    {
     "ename": "KeyboardInterrupt",
     "evalue": "",
     "output_type": "error",
     "traceback": [
      "\u001b[1;31m---------------------------------------------------------------------------\u001b[0m",
      "\u001b[1;31mKeyboardInterrupt\u001b[0m                         Traceback (most recent call last)",
      "Cell \u001b[1;32mIn[27], line 1\u001b[0m\n\u001b[1;32m----> 1\u001b[0m execution_time \u001b[38;5;241m=\u001b[39m \u001b[43mtimeit\u001b[49m\u001b[38;5;241;43m.\u001b[39;49m\u001b[43mtimeit\u001b[49m\u001b[43m(\u001b[49m\u001b[38;5;28;43;01mlambda\u001b[39;49;00m\u001b[43m:\u001b[49m\u001b[43m \u001b[49m\u001b[43msimple_entropy\u001b[49m\u001b[43m(\u001b[49m\u001b[43mnp\u001b[49m\u001b[38;5;241;43m.\u001b[39;49m\u001b[43marray\u001b[49m\u001b[43m(\u001b[49m\u001b[43mtoy_gene1\u001b[49m\u001b[43m)\u001b[49m\u001b[43m)\u001b[49m\u001b[43m,\u001b[49m\u001b[43m \u001b[49m\u001b[43mnumber\u001b[49m\u001b[38;5;241;43m=\u001b[39;49m\u001b[38;5;241;43m1_000_000\u001b[39;49m\u001b[43m)\u001b[49m\n\u001b[0;32m      2\u001b[0m \u001b[38;5;28mprint\u001b[39m(\u001b[38;5;124mf\u001b[39m\u001b[38;5;124m\"\u001b[39m\u001b[38;5;124mAverage time per run: \u001b[39m\u001b[38;5;132;01m{\u001b[39;00mexecution_time\u001b[38;5;250m \u001b[39m\u001b[38;5;241m/\u001b[39m\u001b[38;5;250m \u001b[39m\u001b[38;5;241m1_000_000\u001b[39m\u001b[38;5;132;01m:\u001b[39;00m\u001b[38;5;124m.10f\u001b[39m\u001b[38;5;132;01m}\u001b[39;00m\u001b[38;5;124m seconds\u001b[39m\u001b[38;5;124m\"\u001b[39m)\n",
      "File \u001b[1;32mc:\\Users\\sergi\\anaconda3\\Lib\\timeit.py:234\u001b[0m, in \u001b[0;36mtimeit\u001b[1;34m(stmt, setup, timer, number, globals)\u001b[0m\n\u001b[0;32m    231\u001b[0m \u001b[38;5;28;01mdef\u001b[39;00m \u001b[38;5;21mtimeit\u001b[39m(stmt\u001b[38;5;241m=\u001b[39m\u001b[38;5;124m\"\u001b[39m\u001b[38;5;124mpass\u001b[39m\u001b[38;5;124m\"\u001b[39m, setup\u001b[38;5;241m=\u001b[39m\u001b[38;5;124m\"\u001b[39m\u001b[38;5;124mpass\u001b[39m\u001b[38;5;124m\"\u001b[39m, timer\u001b[38;5;241m=\u001b[39mdefault_timer,\n\u001b[0;32m    232\u001b[0m            number\u001b[38;5;241m=\u001b[39mdefault_number, \u001b[38;5;28mglobals\u001b[39m\u001b[38;5;241m=\u001b[39m\u001b[38;5;28;01mNone\u001b[39;00m):\n\u001b[0;32m    233\u001b[0m \u001b[38;5;250m    \u001b[39m\u001b[38;5;124;03m\"\"\"Convenience function to create Timer object and call timeit method.\"\"\"\u001b[39;00m\n\u001b[1;32m--> 234\u001b[0m     \u001b[38;5;28;01mreturn\u001b[39;00m \u001b[43mTimer\u001b[49m\u001b[43m(\u001b[49m\u001b[43mstmt\u001b[49m\u001b[43m,\u001b[49m\u001b[43m \u001b[49m\u001b[43msetup\u001b[49m\u001b[43m,\u001b[49m\u001b[43m \u001b[49m\u001b[43mtimer\u001b[49m\u001b[43m,\u001b[49m\u001b[43m \u001b[49m\u001b[38;5;28;43mglobals\u001b[39;49m\u001b[43m)\u001b[49m\u001b[38;5;241;43m.\u001b[39;49m\u001b[43mtimeit\u001b[49m\u001b[43m(\u001b[49m\u001b[43mnumber\u001b[49m\u001b[43m)\u001b[49m\n",
      "File \u001b[1;32mc:\\Users\\sergi\\anaconda3\\Lib\\timeit.py:178\u001b[0m, in \u001b[0;36mTimer.timeit\u001b[1;34m(self, number)\u001b[0m\n\u001b[0;32m    176\u001b[0m gc\u001b[38;5;241m.\u001b[39mdisable()\n\u001b[0;32m    177\u001b[0m \u001b[38;5;28;01mtry\u001b[39;00m:\n\u001b[1;32m--> 178\u001b[0m     timing \u001b[38;5;241m=\u001b[39m \u001b[38;5;28;43mself\u001b[39;49m\u001b[38;5;241;43m.\u001b[39;49m\u001b[43minner\u001b[49m\u001b[43m(\u001b[49m\u001b[43mit\u001b[49m\u001b[43m,\u001b[49m\u001b[43m \u001b[49m\u001b[38;5;28;43mself\u001b[39;49m\u001b[38;5;241;43m.\u001b[39;49m\u001b[43mtimer\u001b[49m\u001b[43m)\u001b[49m\n\u001b[0;32m    179\u001b[0m \u001b[38;5;28;01mfinally\u001b[39;00m:\n\u001b[0;32m    180\u001b[0m     \u001b[38;5;28;01mif\u001b[39;00m gcold:\n",
      "File \u001b[1;32m<timeit-src>:6\u001b[0m, in \u001b[0;36minner\u001b[1;34m(_it, _timer, _stmt)\u001b[0m\n",
      "Cell \u001b[1;32mIn[27], line 1\u001b[0m, in \u001b[0;36m<lambda>\u001b[1;34m()\u001b[0m\n\u001b[1;32m----> 1\u001b[0m execution_time \u001b[38;5;241m=\u001b[39m timeit\u001b[38;5;241m.\u001b[39mtimeit(\u001b[38;5;28;01mlambda\u001b[39;00m: \u001b[43msimple_entropy\u001b[49m\u001b[43m(\u001b[49m\u001b[43mnp\u001b[49m\u001b[38;5;241;43m.\u001b[39;49m\u001b[43marray\u001b[49m\u001b[43m(\u001b[49m\u001b[43mtoy_gene1\u001b[49m\u001b[43m)\u001b[49m\u001b[43m)\u001b[49m, number\u001b[38;5;241m=\u001b[39m\u001b[38;5;241m1_000_000\u001b[39m)\n\u001b[0;32m      2\u001b[0m \u001b[38;5;28mprint\u001b[39m(\u001b[38;5;124mf\u001b[39m\u001b[38;5;124m\"\u001b[39m\u001b[38;5;124mAverage time per run: \u001b[39m\u001b[38;5;132;01m{\u001b[39;00mexecution_time\u001b[38;5;250m \u001b[39m\u001b[38;5;241m/\u001b[39m\u001b[38;5;250m \u001b[39m\u001b[38;5;241m1_000_000\u001b[39m\u001b[38;5;132;01m:\u001b[39;00m\u001b[38;5;124m.10f\u001b[39m\u001b[38;5;132;01m}\u001b[39;00m\u001b[38;5;124m seconds\u001b[39m\u001b[38;5;124m\"\u001b[39m)\n",
      "Cell \u001b[1;32mIn[24], line 19\u001b[0m, in \u001b[0;36msimple_entropy\u001b[1;34m(f1)\u001b[0m\n\u001b[0;32m     16\u001b[0m \u001b[38;5;28;01mdef\u001b[39;00m \u001b[38;5;21mh_integrand\u001b[39m(fx):\n\u001b[0;32m     17\u001b[0m     \u001b[38;5;28;01mreturn\u001b[39;00m fx \u001b[38;5;241m*\u001b[39m safe_log(fx)\n\u001b[1;32m---> 19\u001b[0m kde_part_H2, _ \u001b[38;5;241m=\u001b[39m \u001b[43mquad\u001b[49m\u001b[43m(\u001b[49m\u001b[43mh_integrand\u001b[49m\u001b[43m,\u001b[49m\u001b[43m \u001b[49m\u001b[38;5;241;43m0\u001b[39;49m\u001b[43m,\u001b[49m\u001b[43m \u001b[49m\u001b[38;5;28;43mmax\u001b[39;49m\u001b[43m(\u001b[49m\u001b[43mfeature\u001b[49m\u001b[43m)\u001b[49m\u001b[43m)\u001b[49m\n\u001b[0;32m     20\u001b[0m entropy_non_zero \u001b[38;5;241m=\u001b[39m \u001b[38;5;241m-\u001b[39mh_integrand(\u001b[38;5;241m1\u001b[39m\u001b[38;5;241m-\u001b[39mp0) \u001b[38;5;241m-\u001b[39m (\u001b[38;5;241m1\u001b[39m\u001b[38;5;241m-\u001b[39mp0) \u001b[38;5;241m*\u001b[39m kde_part_H2\n\u001b[0;32m     22\u001b[0m \u001b[38;5;66;03m# Combined entropy\u001b[39;00m\n",
      "File \u001b[1;32mc:\\Users\\sergi\\anaconda3\\Lib\\site-packages\\scipy\\integrate\\_quadpack_py.py:463\u001b[0m, in \u001b[0;36mquad\u001b[1;34m(func, a, b, args, full_output, epsabs, epsrel, limit, points, weight, wvar, wopts, maxp1, limlst, complex_func)\u001b[0m\n\u001b[0;32m    460\u001b[0m     \u001b[38;5;28;01mreturn\u001b[39;00m retval\n\u001b[0;32m    462\u001b[0m \u001b[38;5;28;01mif\u001b[39;00m weight \u001b[38;5;129;01mis\u001b[39;00m \u001b[38;5;28;01mNone\u001b[39;00m:\n\u001b[1;32m--> 463\u001b[0m     retval \u001b[38;5;241m=\u001b[39m \u001b[43m_quad\u001b[49m\u001b[43m(\u001b[49m\u001b[43mfunc\u001b[49m\u001b[43m,\u001b[49m\u001b[43m \u001b[49m\u001b[43ma\u001b[49m\u001b[43m,\u001b[49m\u001b[43m \u001b[49m\u001b[43mb\u001b[49m\u001b[43m,\u001b[49m\u001b[43m \u001b[49m\u001b[43margs\u001b[49m\u001b[43m,\u001b[49m\u001b[43m \u001b[49m\u001b[43mfull_output\u001b[49m\u001b[43m,\u001b[49m\u001b[43m \u001b[49m\u001b[43mepsabs\u001b[49m\u001b[43m,\u001b[49m\u001b[43m \u001b[49m\u001b[43mepsrel\u001b[49m\u001b[43m,\u001b[49m\u001b[43m \u001b[49m\u001b[43mlimit\u001b[49m\u001b[43m,\u001b[49m\n\u001b[0;32m    464\u001b[0m \u001b[43m                   \u001b[49m\u001b[43mpoints\u001b[49m\u001b[43m)\u001b[49m\n\u001b[0;32m    465\u001b[0m \u001b[38;5;28;01melse\u001b[39;00m:\n\u001b[0;32m    466\u001b[0m     \u001b[38;5;28;01mif\u001b[39;00m points \u001b[38;5;129;01mis\u001b[39;00m \u001b[38;5;129;01mnot\u001b[39;00m \u001b[38;5;28;01mNone\u001b[39;00m:\n",
      "File \u001b[1;32mc:\\Users\\sergi\\anaconda3\\Lib\\site-packages\\scipy\\integrate\\_quadpack_py.py:575\u001b[0m, in \u001b[0;36m_quad\u001b[1;34m(func, a, b, args, full_output, epsabs, epsrel, limit, points)\u001b[0m\n\u001b[0;32m    573\u001b[0m \u001b[38;5;28;01mif\u001b[39;00m points \u001b[38;5;129;01mis\u001b[39;00m \u001b[38;5;28;01mNone\u001b[39;00m:\n\u001b[0;32m    574\u001b[0m     \u001b[38;5;28;01mif\u001b[39;00m infbounds \u001b[38;5;241m==\u001b[39m \u001b[38;5;241m0\u001b[39m:\n\u001b[1;32m--> 575\u001b[0m         \u001b[38;5;28;01mreturn\u001b[39;00m \u001b[43m_quadpack\u001b[49m\u001b[38;5;241;43m.\u001b[39;49m\u001b[43m_qagse\u001b[49m\u001b[43m(\u001b[49m\u001b[43mfunc\u001b[49m\u001b[43m,\u001b[49m\u001b[43ma\u001b[49m\u001b[43m,\u001b[49m\u001b[43mb\u001b[49m\u001b[43m,\u001b[49m\u001b[43margs\u001b[49m\u001b[43m,\u001b[49m\u001b[43mfull_output\u001b[49m\u001b[43m,\u001b[49m\u001b[43mepsabs\u001b[49m\u001b[43m,\u001b[49m\u001b[43mepsrel\u001b[49m\u001b[43m,\u001b[49m\u001b[43mlimit\u001b[49m\u001b[43m)\u001b[49m\n\u001b[0;32m    576\u001b[0m     \u001b[38;5;28;01melse\u001b[39;00m:\n\u001b[0;32m    577\u001b[0m         \u001b[38;5;28;01mreturn\u001b[39;00m _quadpack\u001b[38;5;241m.\u001b[39m_qagie(func,bound,infbounds,args,full_output,epsabs,epsrel,limit)\n",
      "Cell \u001b[1;32mIn[24], line 16\u001b[0m, in \u001b[0;36msimple_entropy.<locals>.h_integrand\u001b[1;34m(fx)\u001b[0m\n\u001b[0;32m     14\u001b[0m kde \u001b[38;5;241m=\u001b[39m gaussian_kde(non_zero_data)\n\u001b[0;32m     15\u001b[0m \u001b[38;5;66;03m# Simplified kde integration\u001b[39;00m\n\u001b[1;32m---> 16\u001b[0m \u001b[38;5;28;01mdef\u001b[39;00m \u001b[38;5;21mh_integrand\u001b[39m(fx):\n\u001b[0;32m     17\u001b[0m     \u001b[38;5;28;01mreturn\u001b[39;00m fx \u001b[38;5;241m*\u001b[39m safe_log(fx)\n\u001b[0;32m     19\u001b[0m kde_part_H2, _ \u001b[38;5;241m=\u001b[39m quad(h_integrand, \u001b[38;5;241m0\u001b[39m, \u001b[38;5;28mmax\u001b[39m(feature))\n",
      "\u001b[1;31mKeyboardInterrupt\u001b[0m: "
     ]
    }
   ],
   "source": [
    "import timeit\n",
    "execution_time = timeit.timeit(lambda: simple_entropy(np.array(toy_gene1)), number=1_000_000)\n",
    "print(f\"Average time per run: {execution_time / 1_000_000:.10f} seconds\")"
   ]
  },
  {
   "cell_type": "code",
   "execution_count": null,
   "metadata": {},
   "outputs": [],
   "source": [
    "# another chatgpt answer using KernelDensity\n",
    "import numpy as np\n",
    "from sklearn.neighbors import KernelDensity\n",
    "\n",
    "def kde_entropy(samples, bandwidth=0.1):\n",
    "    kde = KernelDensity(bandwidth=bandwidth)\n",
    "    kde.fit(samples[:, None])\n",
    "    log_probs = kde.score_samples(samples[:, None])\n",
    "    return -np.mean(log_probs)\n",
    "\n",
    "def joint_entropy(x, y, bandwidth=0.1):\n",
    "    xy = np.vstack([x, y]).T\n",
    "    kde = KernelDensity(bandwidth=bandwidth)\n",
    "    kde.fit(xy)\n",
    "    log_probs = kde.score_samples(xy)\n",
    "    return -np.mean(log_probs)\n",
    "\n",
    "# Example data\n",
    "x = np.array([0, 0, 0, 0.5, 0.8, 0.95])\n",
    "y = np.array([0.1, 0, 0.2, 0.6, 0.8, 1.0])\n",
    "\n",
    "# Calculate entropies\n",
    "h_x = kde_entropy(x)\n",
    "h_y = kde_entropy(y)\n",
    "h_xy = joint_entropy(x, y)\n",
    "\n",
    "# Mutual information\n",
    "mutual_info = h_x + h_y - h_xy\n",
    "print(\"Mutual Information:\", mutual_info)\n"
   ]
  },
  {
   "cell_type": "markdown",
   "metadata": {},
   "source": [
    "## Actually make up function"
   ]
  },
  {
   "cell_type": "markdown",
   "metadata": {},
   "source": [
    "Correlation metric cIFW, with simple_entropy() function as ind_entropy()"
   ]
  },
  {
   "cell_type": "code",
   "execution_count": 3,
   "metadata": {},
   "outputs": [
    {
     "name": "stdout",
     "output_type": "stream",
     "text": [
      "KDE normalisation check: 0.9999999999999998\n",
      "Negative entropy detected. Recalculating with kde bandwidth 0.2.\n",
      "KDE normalisation check: 0.9999999999999991\n",
      "Negative entropy detected. Recalculating with kde bandwidth 0.4.\n",
      "KDE normalisation check: 0.9999999999999994\n",
      "Negative entropy detected. Recalculating with kde bandwidth 0.6000000000000001.\n",
      "KDE normalisation check: 1.0000000000000004\n",
      "Negative entropy detected. Recalculating with kde bandwidth 0.8.\n",
      "KDE normalisation check: 0.9999999999999998\n",
      "Negative entropy detected. Recalculating with kde bandwidth 1.0.\n",
      "KDE normalisation check: 1.0\n",
      "Negative entropy detected. Recalculating with kde bandwidth 1.2.\n",
      "KDE normalisation check: 1.0\n",
      "Negative entropy detected. Recalculating with kde bandwidth 1.4.\n",
      "KDE normalisation check: 1.0\n",
      "Negative entropy detected. Recalculating with kde bandwidth 1.5999999999999999.\n",
      "KDE normalisation check: 0.9999999999999999\n",
      "0.015317739150225218\n"
     ]
    }
   ],
   "source": [
    "def independent_entropy(feature, kde_bandwith = None):\n",
    "    # Probability of zero and data that is nonzero\n",
    "    p0 = np.sum(feature == 0) / len(feature) if len(feature) > 0 else 0\n",
    "    non_zero_data = feature[feature != 0]\n",
    "\n",
    "    # zero (H1)\n",
    "    def safe_log(x):\n",
    "        return np.log2(x) if x > 0 else 0\n",
    "    entropy_zero = -p0 * safe_log(p0)\n",
    "\n",
    "    # H2 (simplified)\n",
    "    # KDE for the non-zero part\n",
    "    kde = gaussian_kde(non_zero_data, bw_method=kde_bandwith)\n",
    "    x = np.linspace(-0.5*max(feature), max(feature)*1.5, 10000)\n",
    "    print(f\"KDE normalisation check: {np.trapz(kde(x), x)}\")\n",
    "    # Simplified kde integration\n",
    "    def h_integrand(fx):\n",
    "        return fx * safe_log(fx)\n",
    "    def kde_integrand(x):\n",
    "        return kde(x) * safe_log(kde(x))\n",
    "    \n",
    "    kde_part_H2, _ = quad(kde_integrand, 0, max(feature))\n",
    "    entropy_non_zero = -h_integrand(1-p0) - (1-p0) * kde_part_H2\n",
    "    \n",
    "    # Combined entropy\n",
    "    entropy = entropy_non_zero + entropy_zero\n",
    "    return entropy\n",
    "\n",
    "f2 = np.array([0.99, 0.98, 0.99, 0, 0, 0, 0, 0, 0, 0])\n",
    "entropy = independent_entropy(f2)\n",
    "\n",
    "if entropy > 0:\n",
    "    pass\n",
    "else:\n",
    "    it = 0\n",
    "    kde_bandwith = 0\n",
    "    while entropy < 0:\n",
    "        it += 1\n",
    "        kde_bandwith = kde_bandwith + 0.2\n",
    "        print(f\"Negative entropy detected. Recalculating with kde bandwidth {kde_bandwith}.\")\n",
    "        entropy = independent_entropy(f2, kde_bandwith = kde_bandwith)\n",
    "        if it > 10:\n",
    "            print(\"Could not find a suitable kde bandwidth.\")\n",
    "            break\n",
    "        \n",
    "print(entropy)\n"
   ]
  },
  {
   "cell_type": "code",
   "execution_count": 3,
   "metadata": {},
   "outputs": [],
   "source": [
    "from scipy.integrate import dblquad\n",
    "f1 = np.array([0.97, 0.9, 0.99, 0, 0, 0, 0, 0, 0, 0])\n",
    "f2 = np.array([0.99, 0.98, 0.99, 0, 0, 0, 0, 0, 0, 0])\n",
    "p01 = np.mean(f1 == 0)\n",
    "p02 = np.mean(f2 == 0)\n"
   ]
  },
  {
   "cell_type": "code",
   "execution_count": 9,
   "metadata": {},
   "outputs": [
    {
     "ename": "KeyboardInterrupt",
     "evalue": "",
     "output_type": "error",
     "traceback": [
      "\u001b[1;31m---------------------------------------------------------------------------\u001b[0m",
      "\u001b[1;31mKeyboardInterrupt\u001b[0m                         Traceback (most recent call last)",
      "Cell \u001b[1;32mIn[9], line 13\u001b[0m\n\u001b[0;32m     10\u001b[0m     joint_entropy, _ \u001b[38;5;241m=\u001b[39m dblquad(integrand, \u001b[38;5;241m0\u001b[39m, \u001b[38;5;241m1\u001b[39m, \u001b[38;5;28;01mlambda\u001b[39;00m _: \u001b[38;5;241m0\u001b[39m, \u001b[38;5;28;01mlambda\u001b[39;00m _: \u001b[38;5;241m1\u001b[39m)\n\u001b[0;32m     11\u001b[0m     \u001b[38;5;28;01mreturn\u001b[39;00m joint_entropy\n\u001b[1;32m---> 13\u001b[0m entropy \u001b[38;5;241m=\u001b[39m \u001b[43mjoint_entropy\u001b[49m\u001b[43m(\u001b[49m\u001b[43mf1\u001b[49m\u001b[43m,\u001b[49m\u001b[43m \u001b[49m\u001b[43mf2\u001b[49m\u001b[43m,\u001b[49m\u001b[43m \u001b[49m\u001b[43mp01\u001b[49m\u001b[43m,\u001b[49m\u001b[43m \u001b[49m\u001b[43mp02\u001b[49m\u001b[43m,\u001b[49m\u001b[43m)\u001b[49m\n\u001b[0;32m     15\u001b[0m \u001b[38;5;28;01mif\u001b[39;00m entropy \u001b[38;5;241m>\u001b[39m \u001b[38;5;241m0\u001b[39m:\n\u001b[0;32m     16\u001b[0m     \u001b[38;5;28;01mpass\u001b[39;00m\n",
      "Cell \u001b[1;32mIn[9], line 10\u001b[0m, in \u001b[0;36mjoint_entropy\u001b[1;34m(f1, f2, p01, p02, kde_bandwidth)\u001b[0m\n\u001b[0;32m      8\u001b[0m     \u001b[38;5;28;01mreturn\u001b[39;00m np\u001b[38;5;241m.\u001b[39mlog2(x) \u001b[38;5;28;01mif\u001b[39;00m x \u001b[38;5;241m>\u001b[39m \u001b[38;5;241m0\u001b[39m \u001b[38;5;28;01melse\u001b[39;00m \u001b[38;5;241m0\u001b[39m\n\u001b[0;32m      9\u001b[0m integrand \u001b[38;5;241m=\u001b[39m \u001b[38;5;28;01mlambda\u001b[39;00m x, y: \u001b[38;5;241m-\u001b[39madjusted_pdf(x, y) \u001b[38;5;241m*\u001b[39m safe_log(adjusted_pdf(x, y))\n\u001b[1;32m---> 10\u001b[0m joint_entropy, _ \u001b[38;5;241m=\u001b[39m \u001b[43mdblquad\u001b[49m\u001b[43m(\u001b[49m\u001b[43mintegrand\u001b[49m\u001b[43m,\u001b[49m\u001b[43m \u001b[49m\u001b[38;5;241;43m0\u001b[39;49m\u001b[43m,\u001b[49m\u001b[43m \u001b[49m\u001b[38;5;241;43m1\u001b[39;49m\u001b[43m,\u001b[49m\u001b[43m \u001b[49m\u001b[38;5;28;43;01mlambda\u001b[39;49;00m\u001b[43m \u001b[49m\u001b[43m_\u001b[49m\u001b[43m:\u001b[49m\u001b[43m \u001b[49m\u001b[38;5;241;43m0\u001b[39;49m\u001b[43m,\u001b[49m\u001b[43m \u001b[49m\u001b[38;5;28;43;01mlambda\u001b[39;49;00m\u001b[43m \u001b[49m\u001b[43m_\u001b[49m\u001b[43m:\u001b[49m\u001b[43m \u001b[49m\u001b[38;5;241;43m1\u001b[39;49m\u001b[43m)\u001b[49m\n\u001b[0;32m     11\u001b[0m \u001b[38;5;28;01mreturn\u001b[39;00m joint_entropy\n",
      "File \u001b[1;32mc:\\Users\\sergi\\anaconda3\\Lib\\site-packages\\scipy\\integrate\\_quadpack_py.py:771\u001b[0m, in \u001b[0;36mdblquad\u001b[1;34m(func, a, b, gfun, hfun, args, epsabs, epsrel)\u001b[0m\n\u001b[0;32m    767\u001b[0m \u001b[38;5;28;01mdef\u001b[39;00m \u001b[38;5;21mtemp_ranges\u001b[39m(\u001b[38;5;241m*\u001b[39margs):\n\u001b[0;32m    768\u001b[0m     \u001b[38;5;28;01mreturn\u001b[39;00m [gfun(args[\u001b[38;5;241m0\u001b[39m]) \u001b[38;5;28;01mif\u001b[39;00m \u001b[38;5;28mcallable\u001b[39m(gfun) \u001b[38;5;28;01melse\u001b[39;00m gfun,\n\u001b[0;32m    769\u001b[0m             hfun(args[\u001b[38;5;241m0\u001b[39m]) \u001b[38;5;28;01mif\u001b[39;00m \u001b[38;5;28mcallable\u001b[39m(hfun) \u001b[38;5;28;01melse\u001b[39;00m hfun]\n\u001b[1;32m--> 771\u001b[0m \u001b[38;5;28;01mreturn\u001b[39;00m \u001b[43mnquad\u001b[49m\u001b[43m(\u001b[49m\u001b[43mfunc\u001b[49m\u001b[43m,\u001b[49m\u001b[43m \u001b[49m\u001b[43m[\u001b[49m\u001b[43mtemp_ranges\u001b[49m\u001b[43m,\u001b[49m\u001b[43m \u001b[49m\u001b[43m[\u001b[49m\u001b[43ma\u001b[49m\u001b[43m,\u001b[49m\u001b[43m \u001b[49m\u001b[43mb\u001b[49m\u001b[43m]\u001b[49m\u001b[43m]\u001b[49m\u001b[43m,\u001b[49m\u001b[43m \u001b[49m\u001b[43margs\u001b[49m\u001b[38;5;241;43m=\u001b[39;49m\u001b[43margs\u001b[49m\u001b[43m,\u001b[49m\n\u001b[0;32m    772\u001b[0m \u001b[43m        \u001b[49m\u001b[43mopts\u001b[49m\u001b[38;5;241;43m=\u001b[39;49m\u001b[43m{\u001b[49m\u001b[38;5;124;43m\"\u001b[39;49m\u001b[38;5;124;43mepsabs\u001b[39;49m\u001b[38;5;124;43m\"\u001b[39;49m\u001b[43m:\u001b[49m\u001b[43m \u001b[49m\u001b[43mepsabs\u001b[49m\u001b[43m,\u001b[49m\u001b[43m \u001b[49m\u001b[38;5;124;43m\"\u001b[39;49m\u001b[38;5;124;43mepsrel\u001b[39;49m\u001b[38;5;124;43m\"\u001b[39;49m\u001b[43m:\u001b[49m\u001b[43m \u001b[49m\u001b[43mepsrel\u001b[49m\u001b[43m}\u001b[49m\u001b[43m)\u001b[49m\n",
      "File \u001b[1;32mc:\\Users\\sergi\\anaconda3\\Lib\\site-packages\\scipy\\integrate\\_quadpack_py.py:1171\u001b[0m, in \u001b[0;36mnquad\u001b[1;34m(func, ranges, args, opts, full_output)\u001b[0m\n\u001b[0;32m   1169\u001b[0m \u001b[38;5;28;01melse\u001b[39;00m:\n\u001b[0;32m   1170\u001b[0m     opts \u001b[38;5;241m=\u001b[39m [opt \u001b[38;5;28;01mif\u001b[39;00m \u001b[38;5;28mcallable\u001b[39m(opt) \u001b[38;5;28;01melse\u001b[39;00m _OptFunc(opt) \u001b[38;5;28;01mfor\u001b[39;00m opt \u001b[38;5;129;01min\u001b[39;00m opts]\n\u001b[1;32m-> 1171\u001b[0m \u001b[38;5;28;01mreturn\u001b[39;00m \u001b[43m_NQuad\u001b[49m\u001b[43m(\u001b[49m\u001b[43mfunc\u001b[49m\u001b[43m,\u001b[49m\u001b[43m \u001b[49m\u001b[43mranges\u001b[49m\u001b[43m,\u001b[49m\u001b[43m \u001b[49m\u001b[43mopts\u001b[49m\u001b[43m,\u001b[49m\u001b[43m \u001b[49m\u001b[43mfull_output\u001b[49m\u001b[43m)\u001b[49m\u001b[38;5;241;43m.\u001b[39;49m\u001b[43mintegrate\u001b[49m\u001b[43m(\u001b[49m\u001b[38;5;241;43m*\u001b[39;49m\u001b[43margs\u001b[49m\u001b[43m)\u001b[49m\n",
      "File \u001b[1;32mc:\\Users\\sergi\\anaconda3\\Lib\\site-packages\\scipy\\integrate\\_quadpack_py.py:1225\u001b[0m, in \u001b[0;36m_NQuad.integrate\u001b[1;34m(self, *args, **kwargs)\u001b[0m\n\u001b[0;32m   1223\u001b[0m \u001b[38;5;28;01melse\u001b[39;00m:\n\u001b[0;32m   1224\u001b[0m     f \u001b[38;5;241m=\u001b[39m partial(\u001b[38;5;28mself\u001b[39m\u001b[38;5;241m.\u001b[39mintegrate, depth\u001b[38;5;241m=\u001b[39mdepth\u001b[38;5;241m+\u001b[39m\u001b[38;5;241m1\u001b[39m)\n\u001b[1;32m-> 1225\u001b[0m quad_r \u001b[38;5;241m=\u001b[39m \u001b[43mquad\u001b[49m\u001b[43m(\u001b[49m\u001b[43mf\u001b[49m\u001b[43m,\u001b[49m\u001b[43m \u001b[49m\u001b[43mlow\u001b[49m\u001b[43m,\u001b[49m\u001b[43m \u001b[49m\u001b[43mhigh\u001b[49m\u001b[43m,\u001b[49m\u001b[43m \u001b[49m\u001b[43margs\u001b[49m\u001b[38;5;241;43m=\u001b[39;49m\u001b[43margs\u001b[49m\u001b[43m,\u001b[49m\u001b[43m \u001b[49m\u001b[43mfull_output\u001b[49m\u001b[38;5;241;43m=\u001b[39;49m\u001b[38;5;28;43mself\u001b[39;49m\u001b[38;5;241;43m.\u001b[39;49m\u001b[43mfull_output\u001b[49m\u001b[43m,\u001b[49m\n\u001b[0;32m   1226\u001b[0m \u001b[43m              \u001b[49m\u001b[38;5;241;43m*\u001b[39;49m\u001b[38;5;241;43m*\u001b[39;49m\u001b[43mopt\u001b[49m\u001b[43m)\u001b[49m\n\u001b[0;32m   1227\u001b[0m value \u001b[38;5;241m=\u001b[39m quad_r[\u001b[38;5;241m0\u001b[39m]\n\u001b[0;32m   1228\u001b[0m abserr \u001b[38;5;241m=\u001b[39m quad_r[\u001b[38;5;241m1\u001b[39m]\n",
      "File \u001b[1;32mc:\\Users\\sergi\\anaconda3\\Lib\\site-packages\\scipy\\integrate\\_quadpack_py.py:463\u001b[0m, in \u001b[0;36mquad\u001b[1;34m(func, a, b, args, full_output, epsabs, epsrel, limit, points, weight, wvar, wopts, maxp1, limlst, complex_func)\u001b[0m\n\u001b[0;32m    460\u001b[0m     \u001b[38;5;28;01mreturn\u001b[39;00m retval\n\u001b[0;32m    462\u001b[0m \u001b[38;5;28;01mif\u001b[39;00m weight \u001b[38;5;129;01mis\u001b[39;00m \u001b[38;5;28;01mNone\u001b[39;00m:\n\u001b[1;32m--> 463\u001b[0m     retval \u001b[38;5;241m=\u001b[39m \u001b[43m_quad\u001b[49m\u001b[43m(\u001b[49m\u001b[43mfunc\u001b[49m\u001b[43m,\u001b[49m\u001b[43m \u001b[49m\u001b[43ma\u001b[49m\u001b[43m,\u001b[49m\u001b[43m \u001b[49m\u001b[43mb\u001b[49m\u001b[43m,\u001b[49m\u001b[43m \u001b[49m\u001b[43margs\u001b[49m\u001b[43m,\u001b[49m\u001b[43m \u001b[49m\u001b[43mfull_output\u001b[49m\u001b[43m,\u001b[49m\u001b[43m \u001b[49m\u001b[43mepsabs\u001b[49m\u001b[43m,\u001b[49m\u001b[43m \u001b[49m\u001b[43mepsrel\u001b[49m\u001b[43m,\u001b[49m\u001b[43m \u001b[49m\u001b[43mlimit\u001b[49m\u001b[43m,\u001b[49m\n\u001b[0;32m    464\u001b[0m \u001b[43m                   \u001b[49m\u001b[43mpoints\u001b[49m\u001b[43m)\u001b[49m\n\u001b[0;32m    465\u001b[0m \u001b[38;5;28;01melse\u001b[39;00m:\n\u001b[0;32m    466\u001b[0m     \u001b[38;5;28;01mif\u001b[39;00m points \u001b[38;5;129;01mis\u001b[39;00m \u001b[38;5;129;01mnot\u001b[39;00m \u001b[38;5;28;01mNone\u001b[39;00m:\n",
      "File \u001b[1;32mc:\\Users\\sergi\\anaconda3\\Lib\\site-packages\\scipy\\integrate\\_quadpack_py.py:575\u001b[0m, in \u001b[0;36m_quad\u001b[1;34m(func, a, b, args, full_output, epsabs, epsrel, limit, points)\u001b[0m\n\u001b[0;32m    573\u001b[0m \u001b[38;5;28;01mif\u001b[39;00m points \u001b[38;5;129;01mis\u001b[39;00m \u001b[38;5;28;01mNone\u001b[39;00m:\n\u001b[0;32m    574\u001b[0m     \u001b[38;5;28;01mif\u001b[39;00m infbounds \u001b[38;5;241m==\u001b[39m \u001b[38;5;241m0\u001b[39m:\n\u001b[1;32m--> 575\u001b[0m         \u001b[38;5;28;01mreturn\u001b[39;00m \u001b[43m_quadpack\u001b[49m\u001b[38;5;241;43m.\u001b[39;49m\u001b[43m_qagse\u001b[49m\u001b[43m(\u001b[49m\u001b[43mfunc\u001b[49m\u001b[43m,\u001b[49m\u001b[43ma\u001b[49m\u001b[43m,\u001b[49m\u001b[43mb\u001b[49m\u001b[43m,\u001b[49m\u001b[43margs\u001b[49m\u001b[43m,\u001b[49m\u001b[43mfull_output\u001b[49m\u001b[43m,\u001b[49m\u001b[43mepsabs\u001b[49m\u001b[43m,\u001b[49m\u001b[43mepsrel\u001b[49m\u001b[43m,\u001b[49m\u001b[43mlimit\u001b[49m\u001b[43m)\u001b[49m\n\u001b[0;32m    576\u001b[0m     \u001b[38;5;28;01melse\u001b[39;00m:\n\u001b[0;32m    577\u001b[0m         \u001b[38;5;28;01mreturn\u001b[39;00m _quadpack\u001b[38;5;241m.\u001b[39m_qagie(func,bound,infbounds,args,full_output,epsabs,epsrel,limit)\n",
      "File \u001b[1;32mc:\\Users\\sergi\\anaconda3\\Lib\\site-packages\\scipy\\integrate\\_quadpack_py.py:1225\u001b[0m, in \u001b[0;36m_NQuad.integrate\u001b[1;34m(self, *args, **kwargs)\u001b[0m\n\u001b[0;32m   1223\u001b[0m \u001b[38;5;28;01melse\u001b[39;00m:\n\u001b[0;32m   1224\u001b[0m     f \u001b[38;5;241m=\u001b[39m partial(\u001b[38;5;28mself\u001b[39m\u001b[38;5;241m.\u001b[39mintegrate, depth\u001b[38;5;241m=\u001b[39mdepth\u001b[38;5;241m+\u001b[39m\u001b[38;5;241m1\u001b[39m)\n\u001b[1;32m-> 1225\u001b[0m quad_r \u001b[38;5;241m=\u001b[39m \u001b[43mquad\u001b[49m\u001b[43m(\u001b[49m\u001b[43mf\u001b[49m\u001b[43m,\u001b[49m\u001b[43m \u001b[49m\u001b[43mlow\u001b[49m\u001b[43m,\u001b[49m\u001b[43m \u001b[49m\u001b[43mhigh\u001b[49m\u001b[43m,\u001b[49m\u001b[43m \u001b[49m\u001b[43margs\u001b[49m\u001b[38;5;241;43m=\u001b[39;49m\u001b[43margs\u001b[49m\u001b[43m,\u001b[49m\u001b[43m \u001b[49m\u001b[43mfull_output\u001b[49m\u001b[38;5;241;43m=\u001b[39;49m\u001b[38;5;28;43mself\u001b[39;49m\u001b[38;5;241;43m.\u001b[39;49m\u001b[43mfull_output\u001b[49m\u001b[43m,\u001b[49m\n\u001b[0;32m   1226\u001b[0m \u001b[43m              \u001b[49m\u001b[38;5;241;43m*\u001b[39;49m\u001b[38;5;241;43m*\u001b[39;49m\u001b[43mopt\u001b[49m\u001b[43m)\u001b[49m\n\u001b[0;32m   1227\u001b[0m value \u001b[38;5;241m=\u001b[39m quad_r[\u001b[38;5;241m0\u001b[39m]\n\u001b[0;32m   1228\u001b[0m abserr \u001b[38;5;241m=\u001b[39m quad_r[\u001b[38;5;241m1\u001b[39m]\n",
      "File \u001b[1;32mc:\\Users\\sergi\\anaconda3\\Lib\\site-packages\\scipy\\integrate\\_quadpack_py.py:463\u001b[0m, in \u001b[0;36mquad\u001b[1;34m(func, a, b, args, full_output, epsabs, epsrel, limit, points, weight, wvar, wopts, maxp1, limlst, complex_func)\u001b[0m\n\u001b[0;32m    460\u001b[0m     \u001b[38;5;28;01mreturn\u001b[39;00m retval\n\u001b[0;32m    462\u001b[0m \u001b[38;5;28;01mif\u001b[39;00m weight \u001b[38;5;129;01mis\u001b[39;00m \u001b[38;5;28;01mNone\u001b[39;00m:\n\u001b[1;32m--> 463\u001b[0m     retval \u001b[38;5;241m=\u001b[39m \u001b[43m_quad\u001b[49m\u001b[43m(\u001b[49m\u001b[43mfunc\u001b[49m\u001b[43m,\u001b[49m\u001b[43m \u001b[49m\u001b[43ma\u001b[49m\u001b[43m,\u001b[49m\u001b[43m \u001b[49m\u001b[43mb\u001b[49m\u001b[43m,\u001b[49m\u001b[43m \u001b[49m\u001b[43margs\u001b[49m\u001b[43m,\u001b[49m\u001b[43m \u001b[49m\u001b[43mfull_output\u001b[49m\u001b[43m,\u001b[49m\u001b[43m \u001b[49m\u001b[43mepsabs\u001b[49m\u001b[43m,\u001b[49m\u001b[43m \u001b[49m\u001b[43mepsrel\u001b[49m\u001b[43m,\u001b[49m\u001b[43m \u001b[49m\u001b[43mlimit\u001b[49m\u001b[43m,\u001b[49m\n\u001b[0;32m    464\u001b[0m \u001b[43m                   \u001b[49m\u001b[43mpoints\u001b[49m\u001b[43m)\u001b[49m\n\u001b[0;32m    465\u001b[0m \u001b[38;5;28;01melse\u001b[39;00m:\n\u001b[0;32m    466\u001b[0m     \u001b[38;5;28;01mif\u001b[39;00m points \u001b[38;5;129;01mis\u001b[39;00m \u001b[38;5;129;01mnot\u001b[39;00m \u001b[38;5;28;01mNone\u001b[39;00m:\n",
      "File \u001b[1;32mc:\\Users\\sergi\\anaconda3\\Lib\\site-packages\\scipy\\integrate\\_quadpack_py.py:575\u001b[0m, in \u001b[0;36m_quad\u001b[1;34m(func, a, b, args, full_output, epsabs, epsrel, limit, points)\u001b[0m\n\u001b[0;32m    573\u001b[0m \u001b[38;5;28;01mif\u001b[39;00m points \u001b[38;5;129;01mis\u001b[39;00m \u001b[38;5;28;01mNone\u001b[39;00m:\n\u001b[0;32m    574\u001b[0m     \u001b[38;5;28;01mif\u001b[39;00m infbounds \u001b[38;5;241m==\u001b[39m \u001b[38;5;241m0\u001b[39m:\n\u001b[1;32m--> 575\u001b[0m         \u001b[38;5;28;01mreturn\u001b[39;00m \u001b[43m_quadpack\u001b[49m\u001b[38;5;241;43m.\u001b[39;49m\u001b[43m_qagse\u001b[49m\u001b[43m(\u001b[49m\u001b[43mfunc\u001b[49m\u001b[43m,\u001b[49m\u001b[43ma\u001b[49m\u001b[43m,\u001b[49m\u001b[43mb\u001b[49m\u001b[43m,\u001b[49m\u001b[43margs\u001b[49m\u001b[43m,\u001b[49m\u001b[43mfull_output\u001b[49m\u001b[43m,\u001b[49m\u001b[43mepsabs\u001b[49m\u001b[43m,\u001b[49m\u001b[43mepsrel\u001b[49m\u001b[43m,\u001b[49m\u001b[43mlimit\u001b[49m\u001b[43m)\u001b[49m\n\u001b[0;32m    576\u001b[0m     \u001b[38;5;28;01melse\u001b[39;00m:\n\u001b[0;32m    577\u001b[0m         \u001b[38;5;28;01mreturn\u001b[39;00m _quadpack\u001b[38;5;241m.\u001b[39m_qagie(func,bound,infbounds,args,full_output,epsabs,epsrel,limit)\n",
      "Cell \u001b[1;32mIn[9], line 9\u001b[0m, in \u001b[0;36mjoint_entropy.<locals>.<lambda>\u001b[1;34m(x, y)\u001b[0m\n\u001b[0;32m      7\u001b[0m \u001b[38;5;28;01mdef\u001b[39;00m \u001b[38;5;21msafe_log\u001b[39m(x):\n\u001b[0;32m      8\u001b[0m     \u001b[38;5;28;01mreturn\u001b[39;00m np\u001b[38;5;241m.\u001b[39mlog2(x) \u001b[38;5;28;01mif\u001b[39;00m x \u001b[38;5;241m>\u001b[39m \u001b[38;5;241m0\u001b[39m \u001b[38;5;28;01melse\u001b[39;00m \u001b[38;5;241m0\u001b[39m\n\u001b[1;32m----> 9\u001b[0m integrand \u001b[38;5;241m=\u001b[39m \u001b[38;5;28;01mlambda\u001b[39;00m x, y: \u001b[38;5;241m-\u001b[39m\u001b[43madjusted_pdf\u001b[49m\u001b[43m(\u001b[49m\u001b[43mx\u001b[49m\u001b[43m,\u001b[49m\u001b[43m \u001b[49m\u001b[43my\u001b[49m\u001b[43m)\u001b[49m \u001b[38;5;241m*\u001b[39m safe_log(adjusted_pdf(x, y))\n\u001b[0;32m     10\u001b[0m joint_entropy, _ \u001b[38;5;241m=\u001b[39m dblquad(integrand, \u001b[38;5;241m0\u001b[39m, \u001b[38;5;241m1\u001b[39m, \u001b[38;5;28;01mlambda\u001b[39;00m _: \u001b[38;5;241m0\u001b[39m, \u001b[38;5;28;01mlambda\u001b[39;00m _: \u001b[38;5;241m1\u001b[39m)\n\u001b[0;32m     11\u001b[0m \u001b[38;5;28;01mreturn\u001b[39;00m joint_entropy\n",
      "Cell \u001b[1;32mIn[9], line 6\u001b[0m, in \u001b[0;36mjoint_entropy.<locals>.<lambda>\u001b[1;34m(x, y)\u001b[0m\n\u001b[0;32m      4\u001b[0m kde \u001b[38;5;241m=\u001b[39m gaussian_kde(joint_f, bw_method\u001b[38;5;241m=\u001b[39mkde_bandwidth)\n\u001b[0;32m      5\u001b[0m \u001b[38;5;66;03m# joint pdf\u001b[39;00m\n\u001b[1;32m----> 6\u001b[0m adjusted_pdf \u001b[38;5;241m=\u001b[39m \u001b[38;5;28;01mlambda\u001b[39;00m x, y: \u001b[43mkde\u001b[49m\u001b[43m(\u001b[49m\u001b[43m[\u001b[49m\u001b[43mx\u001b[49m\u001b[43m,\u001b[49m\u001b[43m \u001b[49m\u001b[43my\u001b[49m\u001b[43m]\u001b[49m\u001b[43m)\u001b[49m \u001b[38;5;241m*\u001b[39m (\u001b[38;5;241m1\u001b[39m \u001b[38;5;241m-\u001b[39m p01) \u001b[38;5;241m*\u001b[39m (\u001b[38;5;241m1\u001b[39m \u001b[38;5;241m-\u001b[39m p02)\n\u001b[0;32m      7\u001b[0m \u001b[38;5;28;01mdef\u001b[39;00m \u001b[38;5;21msafe_log\u001b[39m(x):\n\u001b[0;32m      8\u001b[0m     \u001b[38;5;28;01mreturn\u001b[39;00m np\u001b[38;5;241m.\u001b[39mlog2(x) \u001b[38;5;28;01mif\u001b[39;00m x \u001b[38;5;241m>\u001b[39m \u001b[38;5;241m0\u001b[39m \u001b[38;5;28;01melse\u001b[39;00m \u001b[38;5;241m0\u001b[39m\n",
      "File \u001b[1;32mc:\\Users\\sergi\\anaconda3\\Lib\\site-packages\\scipy\\stats\\_kde.py:268\u001b[0m, in \u001b[0;36mgaussian_kde.evaluate\u001b[1;34m(self, points)\u001b[0m\n\u001b[0;32m    265\u001b[0m         \u001b[38;5;28;01mraise\u001b[39;00m \u001b[38;5;167;01mValueError\u001b[39;00m(msg)\n\u001b[0;32m    267\u001b[0m output_dtype, spec \u001b[38;5;241m=\u001b[39m _get_output_dtype(\u001b[38;5;28mself\u001b[39m\u001b[38;5;241m.\u001b[39mcovariance, points)\n\u001b[1;32m--> 268\u001b[0m result \u001b[38;5;241m=\u001b[39m \u001b[43mgaussian_kernel_estimate\u001b[49m\u001b[43m[\u001b[49m\u001b[43mspec\u001b[49m\u001b[43m]\u001b[49m\u001b[43m(\u001b[49m\n\u001b[0;32m    269\u001b[0m \u001b[43m    \u001b[49m\u001b[38;5;28;43mself\u001b[39;49m\u001b[38;5;241;43m.\u001b[39;49m\u001b[43mdataset\u001b[49m\u001b[38;5;241;43m.\u001b[39;49m\u001b[43mT\u001b[49m\u001b[43m,\u001b[49m\u001b[43m \u001b[49m\u001b[38;5;28;43mself\u001b[39;49m\u001b[38;5;241;43m.\u001b[39;49m\u001b[43mweights\u001b[49m\u001b[43m[\u001b[49m\u001b[43m:\u001b[49m\u001b[43m,\u001b[49m\u001b[43m \u001b[49m\u001b[38;5;28;43;01mNone\u001b[39;49;00m\u001b[43m]\u001b[49m\u001b[43m,\u001b[49m\n\u001b[0;32m    270\u001b[0m \u001b[43m    \u001b[49m\u001b[43mpoints\u001b[49m\u001b[38;5;241;43m.\u001b[39;49m\u001b[43mT\u001b[49m\u001b[43m,\u001b[49m\u001b[43m \u001b[49m\u001b[38;5;28;43mself\u001b[39;49m\u001b[38;5;241;43m.\u001b[39;49m\u001b[43mcho_cov\u001b[49m\u001b[43m,\u001b[49m\u001b[43m \u001b[49m\u001b[43moutput_dtype\u001b[49m\u001b[43m)\u001b[49m\n\u001b[0;32m    272\u001b[0m \u001b[38;5;28;01mreturn\u001b[39;00m result[:, \u001b[38;5;241m0\u001b[39m]\n",
      "File \u001b[1;32m_stats.pyx:783\u001b[0m, in \u001b[0;36mscipy.stats._stats.gaussian_kernel_estimate\u001b[1;34m()\u001b[0m\n",
      "File \u001b[1;32mc:\\Users\\sergi\\anaconda3\\Lib\\site-packages\\scipy\\linalg\\_basic.py:338\u001b[0m, in \u001b[0;36msolve_triangular\u001b[1;34m(a, b, trans, lower, unit_diagonal, overwrite_b, check_finite)\u001b[0m\n\u001b[0;32m    270\u001b[0m \u001b[38;5;250m\u001b[39m\u001b[38;5;124;03m\"\"\"\u001b[39;00m\n\u001b[0;32m    271\u001b[0m \u001b[38;5;124;03mSolve the equation `a x = b` for `x`, assuming a is a triangular matrix.\u001b[39;00m\n\u001b[0;32m    272\u001b[0m \n\u001b[1;32m   (...)\u001b[0m\n\u001b[0;32m    334\u001b[0m \n\u001b[0;32m    335\u001b[0m \u001b[38;5;124;03m\"\"\"\u001b[39;00m\n\u001b[0;32m    337\u001b[0m a1 \u001b[38;5;241m=\u001b[39m _asarray_validated(a, check_finite\u001b[38;5;241m=\u001b[39mcheck_finite)\n\u001b[1;32m--> 338\u001b[0m b1 \u001b[38;5;241m=\u001b[39m \u001b[43m_asarray_validated\u001b[49m\u001b[43m(\u001b[49m\u001b[43mb\u001b[49m\u001b[43m,\u001b[49m\u001b[43m \u001b[49m\u001b[43mcheck_finite\u001b[49m\u001b[38;5;241;43m=\u001b[39;49m\u001b[43mcheck_finite\u001b[49m\u001b[43m)\u001b[49m\n\u001b[0;32m    339\u001b[0m \u001b[38;5;28;01mif\u001b[39;00m \u001b[38;5;28mlen\u001b[39m(a1\u001b[38;5;241m.\u001b[39mshape) \u001b[38;5;241m!=\u001b[39m \u001b[38;5;241m2\u001b[39m \u001b[38;5;129;01mor\u001b[39;00m a1\u001b[38;5;241m.\u001b[39mshape[\u001b[38;5;241m0\u001b[39m] \u001b[38;5;241m!=\u001b[39m a1\u001b[38;5;241m.\u001b[39mshape[\u001b[38;5;241m1\u001b[39m]:\n\u001b[0;32m    340\u001b[0m     \u001b[38;5;28;01mraise\u001b[39;00m \u001b[38;5;167;01mValueError\u001b[39;00m(\u001b[38;5;124m'\u001b[39m\u001b[38;5;124mexpected square matrix\u001b[39m\u001b[38;5;124m'\u001b[39m)\n",
      "File \u001b[1;32mc:\\Users\\sergi\\anaconda3\\Lib\\site-packages\\scipy\\_lib\\_util.py:252\u001b[0m, in \u001b[0;36m_asarray_validated\u001b[1;34m(a, check_finite, sparse_ok, objects_ok, mask_ok, as_inexact)\u001b[0m\n\u001b[0;32m    250\u001b[0m         \u001b[38;5;28;01mraise\u001b[39;00m \u001b[38;5;167;01mValueError\u001b[39;00m(\u001b[38;5;124m'\u001b[39m\u001b[38;5;124mmasked arrays are not supported\u001b[39m\u001b[38;5;124m'\u001b[39m)\n\u001b[0;32m    251\u001b[0m toarray \u001b[38;5;241m=\u001b[39m np\u001b[38;5;241m.\u001b[39masarray_chkfinite \u001b[38;5;28;01mif\u001b[39;00m check_finite \u001b[38;5;28;01melse\u001b[39;00m np\u001b[38;5;241m.\u001b[39masarray\n\u001b[1;32m--> 252\u001b[0m a \u001b[38;5;241m=\u001b[39m \u001b[43mtoarray\u001b[49m\u001b[43m(\u001b[49m\u001b[43ma\u001b[49m\u001b[43m)\u001b[49m\n\u001b[0;32m    253\u001b[0m \u001b[38;5;28;01mif\u001b[39;00m \u001b[38;5;129;01mnot\u001b[39;00m objects_ok:\n\u001b[0;32m    254\u001b[0m     \u001b[38;5;28;01mif\u001b[39;00m a\u001b[38;5;241m.\u001b[39mdtype \u001b[38;5;129;01mis\u001b[39;00m np\u001b[38;5;241m.\u001b[39mdtype(\u001b[38;5;124m'\u001b[39m\u001b[38;5;124mO\u001b[39m\u001b[38;5;124m'\u001b[39m):\n",
      "File \u001b[1;32mc:\\Users\\sergi\\anaconda3\\Lib\\site-packages\\numpy\\lib\\function_base.py:627\u001b[0m, in \u001b[0;36masarray_chkfinite\u001b[1;34m(a, dtype, order)\u001b[0m\n\u001b[0;32m    564\u001b[0m \u001b[38;5;250m\u001b[39m\u001b[38;5;124;03m\"\"\"Convert the input to an array, checking for NaNs or Infs.\u001b[39;00m\n\u001b[0;32m    565\u001b[0m \n\u001b[0;32m    566\u001b[0m \u001b[38;5;124;03mParameters\u001b[39;00m\n\u001b[1;32m   (...)\u001b[0m\n\u001b[0;32m    624\u001b[0m \n\u001b[0;32m    625\u001b[0m \u001b[38;5;124;03m\"\"\"\u001b[39;00m\n\u001b[0;32m    626\u001b[0m a \u001b[38;5;241m=\u001b[39m asarray(a, dtype\u001b[38;5;241m=\u001b[39mdtype, order\u001b[38;5;241m=\u001b[39morder)\n\u001b[1;32m--> 627\u001b[0m \u001b[38;5;28;01mif\u001b[39;00m a\u001b[38;5;241m.\u001b[39mdtype\u001b[38;5;241m.\u001b[39mchar \u001b[38;5;129;01min\u001b[39;00m typecodes[\u001b[38;5;124m'\u001b[39m\u001b[38;5;124mAllFloat\u001b[39m\u001b[38;5;124m'\u001b[39m] \u001b[38;5;129;01mand\u001b[39;00m \u001b[38;5;129;01mnot\u001b[39;00m \u001b[43mnp\u001b[49m\u001b[38;5;241;43m.\u001b[39;49m\u001b[43misfinite\u001b[49m\u001b[43m(\u001b[49m\u001b[43ma\u001b[49m\u001b[43m)\u001b[49m\u001b[38;5;241;43m.\u001b[39;49m\u001b[43mall\u001b[49m\u001b[43m(\u001b[49m\u001b[43m)\u001b[49m:\n\u001b[0;32m    628\u001b[0m     \u001b[38;5;28;01mraise\u001b[39;00m \u001b[38;5;167;01mValueError\u001b[39;00m(\n\u001b[0;32m    629\u001b[0m         \u001b[38;5;124m\"\u001b[39m\u001b[38;5;124marray must not contain infs or NaNs\u001b[39m\u001b[38;5;124m\"\u001b[39m)\n\u001b[0;32m    630\u001b[0m \u001b[38;5;28;01mreturn\u001b[39;00m a\n",
      "\u001b[1;31mKeyboardInterrupt\u001b[0m: "
     ]
    }
   ],
   "source": [
    "def joint_entropy(f1, f2, p01, p02, kde_bandwidth=None):\n",
    "    # obtain non-zero pairs\n",
    "    joint_f = np.vstack([f1[f1>0], f2[f2>0]])\n",
    "    kde = gaussian_kde(joint_f, bw_method=kde_bandwidth)\n",
    "    # joint pdf\n",
    "    adjusted_pdf = lambda x, y: kde([x, y]) * (1 - p01) * (1 - p02)\n",
    "    def safe_log(x):\n",
    "        return np.log2(x) if x > 0 else 0\n",
    "    integrand = lambda x, y: -adjusted_pdf(x, y) * safe_log(adjusted_pdf(x, y))\n",
    "    joint_entropy, _ = dblquad(integrand, 0, 1, lambda _: 0, lambda _: 1)\n",
    "    return joint_entropy\n",
    "\n",
    "entropy = joint_entropy(f1, f2, p01, p02,)\n",
    "\n",
    "if entropy > 0:\n",
    "    pass\n",
    "else:\n",
    "    it = 0\n",
    "    kde_bandwith = 0\n",
    "    while entropy < 0:\n",
    "        it += 1\n",
    "        kde_bandwith = kde_bandwith + 0.5\n",
    "        print(f\"Negative entropy detected. Recalculating with kde bandwidth {kde_bandwith}.\")\n",
    "        entropy = independent_entropy(f2, kde_bandwith = kde_bandwith)\n",
    "        if it > 10:\n",
    "            print(\"Could not find a suitable kde bandwidth.\")\n",
    "            break\n",
    "    "
   ]
  },
  {
   "cell_type": "markdown",
   "metadata": {},
   "source": [
    "negative joint entropy?"
   ]
  },
  {
   "cell_type": "code",
   "execution_count": 5,
   "metadata": {},
   "outputs": [
    {
     "data": {
      "text/plain": [
       "-0.5528448068521383"
      ]
     },
     "execution_count": 5,
     "metadata": {},
     "output_type": "execute_result"
    }
   ],
   "source": [
    "# try summation\n",
    "def zero_inflated_joint_entropy_summing(f1, f2, p01, p02, kde_bandwidth=None, grid_size=100):\n",
    "    \"\"\"Calculate joint entropy using summation.\"\"\"\n",
    "    x_vals = np.linspace(0, 1, grid_size)\n",
    "    y_vals = np.linspace(0, 1, grid_size)\n",
    "    xx, yy = np.meshgrid(x_vals, y_vals)\n",
    "    grid_points = np.vstack([xx.ravel(), yy.ravel()])\n",
    "    joint_f = np.vstack([f1[f1>0], f2[f2>0]])\n",
    "    kde = gaussian_kde(joint_f, bw_method=kde_bandwidth)\n",
    "    \n",
    "    pdf_vals = kde(grid_points) * (1 - p01) * (1 - p02)  # Adjusted joint KDE\n",
    "    def safe_log(x):\n",
    "        return np.log2(x) if x > 0 else 0\n",
    "    \n",
    "    # Approximate joint entropy with summation\n",
    "    dx = x_vals[1] - x_vals[0]\n",
    "    dy = y_vals[1] - y_vals[0]\n",
    "    pdf_vals[pdf_vals == 0] = 1e-10 # instead of safe_log\n",
    "    joint_entropy = -np.sum(pdf_vals * np.log2(pdf_vals)) * (x_vals[1] - x_vals[0]) * (y_vals[1] - y_vals[0])\n",
    "    return joint_entropy\n",
    "\n",
    "zero_inflated_joint_entropy_summing(f1, f2, p01, p02)"
   ]
  },
  {
   "cell_type": "code",
   "execution_count": 30,
   "metadata": {},
   "outputs": [],
   "source": [
    "# debug\n",
    "grid_size = 100\n",
    "kde_bandwith = None\n",
    "x_vals = np.linspace(0, 1, grid_size)\n",
    "y_vals = np.linspace(0, 1, grid_size)\n",
    "xx, yy = np.meshgrid(x_vals, y_vals)\n",
    "grid_points = np.vstack([xx.ravel(), yy.ravel()])\n",
    "joint_f = np.vstack([f1[f1>0], f2[f2>0]])\n",
    "kde = gaussian_kde(joint_f)\n",
    "\n",
    "pdf_vals = kde(grid_points) * (1 - p01) * (1 - p02)  # Adjusted joint KDE\n",
    "def safe_log(x):\n",
    "    return np.log2(x) if x > 0 else 0\n",
    "\n",
    "# Approximate joint entropy with summation\n",
    "dx = x_vals[1] - x_vals[0]\n",
    "dy = y_vals[1] - y_vals[0]\n",
    "pdf_vals[pdf_vals < 1e-10] = 1e-10 # instead of safe_log\n",
    "joint_entropy = -np.sum(pdf_vals * np.log2(pdf_vals)) * (x_vals[1] - x_vals[0]) * (y_vals[1] - y_vals[0])"
   ]
  },
  {
   "cell_type": "code",
   "execution_count": 16,
   "metadata": {},
   "outputs": [
    {
     "data": {
      "text/plain": [
       "5418.4319497837805"
      ]
     },
     "execution_count": 16,
     "metadata": {},
     "output_type": "execute_result"
    }
   ],
   "source": [
    "np.sum(pdf_vals * np.log2(pdf_vals))"
   ]
  },
  {
   "cell_type": "code",
   "execution_count": 17,
   "metadata": {},
   "outputs": [
    {
     "data": {
      "text/plain": [
       "0.010101010101010102"
      ]
     },
     "execution_count": 17,
     "metadata": {},
     "output_type": "execute_result"
    }
   ],
   "source": [
    "(x_vals[1] - x_vals[0])"
   ]
  },
  {
   "cell_type": "code",
   "execution_count": 18,
   "metadata": {},
   "outputs": [
    {
     "data": {
      "text/plain": [
       "0.010101010101010102"
      ]
     },
     "execution_count": 18,
     "metadata": {},
     "output_type": "execute_result"
    }
   ],
   "source": [
    "(y_vals[1] - y_vals[0])"
   ]
  },
  {
   "cell_type": "code",
   "execution_count": 20,
   "metadata": {},
   "outputs": [
    {
     "data": {
      "text/plain": [
       "134.19614785599336"
      ]
     },
     "execution_count": 20,
     "metadata": {},
     "output_type": "execute_result"
    }
   ],
   "source": [
    "pdf_vals.max()"
   ]
  },
  {
   "cell_type": "code",
   "execution_count": 21,
   "metadata": {},
   "outputs": [
    {
     "name": "stdout",
     "output_type": "stream",
     "text": [
      "Total Probability: 0.08572349142181133\n"
     ]
    }
   ],
   "source": [
    "# too high... make sure kde is normalised to 1...\n",
    "#x = np.linspace(-0.5*max(feature), max(feature)*1.5, 10000)\n",
    "#print(f\"KDE normalisation check: {np.trapz(kde(x), x)}\")\n",
    "\n",
    "dx = x_vals[1] - x_vals[0]\n",
    "dy = y_vals[1] - y_vals[0]\n",
    "total_prob = np.sum(pdf_vals) * dx * dy\n",
    "print(\"Total Probability:\", total_prob)"
   ]
  },
  {
   "cell_type": "code",
   "execution_count": 26,
   "metadata": {},
   "outputs": [
    {
     "data": {
      "text/plain": [
       "array([7.45177873e-13, 7.45177873e-13, 7.45177873e-13, ...,\n",
       "       7.45177873e-13, 7.45177873e-13, 1.51268400e-09])"
      ]
     },
     "execution_count": 26,
     "metadata": {},
     "output_type": "execute_result"
    }
   ],
   "source": [
    "# normalise?\n",
    "pdf_vals /= pdf_vals.max()\n",
    "pdf_vals"
   ]
  },
  {
   "cell_type": "code",
   "execution_count": 27,
   "metadata": {},
   "outputs": [
    {
     "data": {
      "text/plain": [
       "1.0"
      ]
     },
     "execution_count": 27,
     "metadata": {},
     "output_type": "execute_result"
    }
   ],
   "source": [
    "pdf_vals.max()"
   ]
  },
  {
   "cell_type": "code",
   "execution_count": 29,
   "metadata": {},
   "outputs": [
    {
     "name": "stdout",
     "output_type": "stream",
     "text": [
      "Total Probability: 0.000638792590670347\n"
     ]
    }
   ],
   "source": [
    "# too high... make sure kde is normalised to 1...\n",
    "#x = np.linspace(-0.5*max(feature), max(feature)*1.5, 10000)\n",
    "#print(f\"KDE normalisation check: {np.trapz(kde(x), x)}\")\n",
    "\n",
    "dx = x_vals[1] - x_vals[0]\n",
    "dy = y_vals[1] - y_vals[0]\n",
    "total_prob = np.sum(pdf_vals) * dx * dy\n",
    "print(\"Total Probability:\", total_prob)"
   ]
  },
  {
   "cell_type": "code",
   "execution_count": 28,
   "metadata": {},
   "outputs": [
    {
     "data": {
      "text/plain": [
       "0.00039543889758638387"
      ]
     },
     "execution_count": 28,
     "metadata": {},
     "output_type": "execute_result"
    }
   ],
   "source": [
    "pdf_vals[pdf_vals < 1e-10] = 1e-10 # instead of safe_log\n",
    "joint_entropy = -np.sum(pdf_vals * np.log2(pdf_vals)) * (x_vals[1] - x_vals[0]) * (y_vals[1] - y_vals[0])\n",
    "joint_entropy"
   ]
  },
  {
   "cell_type": "code",
   "execution_count": 54,
   "metadata": {},
   "outputs": [
    {
     "data": {
      "text/plain": [
       "array([[0.97, 0.9 , 0.99],\n",
       "       [0.99, 0.98, 0.99]])"
      ]
     },
     "execution_count": 54,
     "metadata": {},
     "output_type": "execute_result"
    }
   ],
   "source": [
    "joint_f"
   ]
  },
  {
   "cell_type": "code",
   "execution_count": 55,
   "metadata": {},
   "outputs": [
    {
     "ename": "ValueError",
     "evalue": "points have dimension 1, dataset has dimension 2",
     "output_type": "error",
     "traceback": [
      "\u001b[1;31m---------------------------------------------------------------------------\u001b[0m",
      "\u001b[1;31mValueError\u001b[0m                                Traceback (most recent call last)",
      "Cell \u001b[1;32mIn[55], line 11\u001b[0m\n\u001b[0;32m      9\u001b[0m \u001b[38;5;66;03m# Plot\u001b[39;00m\n\u001b[0;32m     10\u001b[0m x \u001b[38;5;241m=\u001b[39m np\u001b[38;5;241m.\u001b[39mlinspace(\u001b[38;5;241m-\u001b[39m\u001b[38;5;241m5\u001b[39m, \u001b[38;5;241m5\u001b[39m, \u001b[38;5;241m1000\u001b[39m)\n\u001b[1;32m---> 11\u001b[0m plt\u001b[38;5;241m.\u001b[39mplot(x, \u001b[43mkde_default\u001b[49m\u001b[43m(\u001b[49m\u001b[43mx\u001b[49m\u001b[43m)\u001b[49m, label\u001b[38;5;241m=\u001b[39m\u001b[38;5;124m\"\u001b[39m\u001b[38;5;124mDefault Bandwidth\u001b[39m\u001b[38;5;124m\"\u001b[39m)\n\u001b[0;32m     12\u001b[0m plt\u001b[38;5;241m.\u001b[39mplot(x, kde_custom(x), label\u001b[38;5;241m=\u001b[39m\u001b[38;5;124m\"\u001b[39m\u001b[38;5;124mCustom Bandwidth (1.8)\u001b[39m\u001b[38;5;124m\"\u001b[39m)\n\u001b[0;32m     13\u001b[0m plt\u001b[38;5;241m.\u001b[39mhist(data)\n",
      "File \u001b[1;32mc:\\Users\\sergi\\anaconda3\\Lib\\site-packages\\scipy\\stats\\_kde.py:265\u001b[0m, in \u001b[0;36mgaussian_kde.evaluate\u001b[1;34m(self, points)\u001b[0m\n\u001b[0;32m    262\u001b[0m     \u001b[38;5;28;01melse\u001b[39;00m:\n\u001b[0;32m    263\u001b[0m         msg \u001b[38;5;241m=\u001b[39m \u001b[38;5;124m\"\u001b[39m\u001b[38;5;124mpoints have dimension \u001b[39m\u001b[38;5;132;01m%s\u001b[39;00m\u001b[38;5;124m, dataset has dimension \u001b[39m\u001b[38;5;132;01m%s\u001b[39;00m\u001b[38;5;124m\"\u001b[39m \u001b[38;5;241m%\u001b[39m (d,\n\u001b[0;32m    264\u001b[0m             \u001b[38;5;28mself\u001b[39m\u001b[38;5;241m.\u001b[39md)\n\u001b[1;32m--> 265\u001b[0m         \u001b[38;5;28;01mraise\u001b[39;00m \u001b[38;5;167;01mValueError\u001b[39;00m(msg)\n\u001b[0;32m    267\u001b[0m output_dtype, spec \u001b[38;5;241m=\u001b[39m _get_output_dtype(\u001b[38;5;28mself\u001b[39m\u001b[38;5;241m.\u001b[39mcovariance, points)\n\u001b[0;32m    268\u001b[0m result \u001b[38;5;241m=\u001b[39m gaussian_kernel_estimate[spec](\n\u001b[0;32m    269\u001b[0m     \u001b[38;5;28mself\u001b[39m\u001b[38;5;241m.\u001b[39mdataset\u001b[38;5;241m.\u001b[39mT, \u001b[38;5;28mself\u001b[39m\u001b[38;5;241m.\u001b[39mweights[:, \u001b[38;5;28;01mNone\u001b[39;00m],\n\u001b[0;32m    270\u001b[0m     points\u001b[38;5;241m.\u001b[39mT, \u001b[38;5;28mself\u001b[39m\u001b[38;5;241m.\u001b[39mcho_cov, output_dtype)\n",
      "\u001b[1;31mValueError\u001b[0m: points have dimension 1, dataset has dimension 2"
     ]
    }
   ],
   "source": [
    "import numpy as np\n",
    "import matplotlib.pyplot as plt\n",
    "from scipy.stats import gaussian_kde\n",
    "\n",
    "x2 = \n",
    "\n",
    "# KDE with different bandwidths\n",
    "kde_default = gaussian_kde(joint_f)\n",
    "kde_custom = gaussian_kde(joint_f, bw_method=1.8)\n",
    "\n",
    "# Plot\n",
    "x = np.linspace(-5, 5, 1000)\n",
    "plt.plot(x, kde_default(x), label=\"Default Bandwidth\")\n",
    "plt.plot(x, kde_custom(x), label=\"Custom Bandwidth (1.8)\")\n",
    "plt.hist(data)\n",
    "plt.legend()\n",
    "plt.show()\n"
   ]
  },
  {
   "cell_type": "code",
   "execution_count": 51,
   "metadata": {},
   "outputs": [],
   "source": [
    "# debug\n",
    "grid_size = 100\n",
    "kde_bandwith = None\n",
    "x_vals = np.linspace(0, 1, grid_size)\n",
    "y_vals = np.linspace(0, 1, grid_size)\n",
    "xx, yy = np.meshgrid(x_vals, y_vals)\n",
    "grid_points = np.vstack([xx.ravel(), yy.ravel()])\n",
    "joint_f = np.vstack([f1[f1>0], f2[f2>0]])\n",
    "kde = gaussian_kde(joint_f, bw_method='scott')\n",
    "\n",
    "pdf_vals = kde(grid_points) * (1 - p01) * (1 - p02)  # Adjusted joint KDE\n",
    "def safe_log(x):\n",
    "    return np.log2(x) if x > 0 else 0\n",
    "\n",
    "# Approximate joint entropy with summation\n",
    "dx = x_vals[1] - x_vals[0]\n",
    "dy = y_vals[1] - y_vals[0]\n",
    "pdf_vals[pdf_vals < 1e-10] = 1e-10 # instead of safe_log\n",
    "#pdf_vals = np.clip(pdf_vals, None, 1.0)\n",
    "#pdf_vals /= np.sum(pdf_vals) * dx * dy\n",
    "joint_entropy = -np.sum(pdf_vals * np.log2(pdf_vals)) * (x_vals[1] - x_vals[0]) * (y_vals[1] - y_vals[0])"
   ]
  },
  {
   "cell_type": "code",
   "execution_count": 52,
   "metadata": {},
   "outputs": [
    {
     "name": "stdout",
     "output_type": "stream",
     "text": [
      "Total Probability: 0.08572349142181133\n"
     ]
    }
   ],
   "source": [
    "total_prob = np.sum(pdf_vals) * dx * dy\n",
    "print(\"Total Probability:\", total_prob)"
   ]
  },
  {
   "cell_type": "code",
   "execution_count": 53,
   "metadata": {},
   "outputs": [
    {
     "data": {
      "text/plain": [
       "-0.5528448066303215"
      ]
     },
     "execution_count": 53,
     "metadata": {},
     "output_type": "execute_result"
    }
   ],
   "source": [
    "joint_entropy"
   ]
  },
  {
   "cell_type": "code",
   "execution_count": 38,
   "metadata": {},
   "outputs": [
    {
     "data": {
      "text/plain": [
       "1.0"
      ]
     },
     "execution_count": 38,
     "metadata": {},
     "output_type": "execute_result"
    }
   ],
   "source": [
    "pdf_vals.max()"
   ]
  },
  {
   "cell_type": "code",
   "execution_count": null,
   "metadata": {},
   "outputs": [],
   "source": [
    "# debug\n",
    "grid_size = 100\n",
    "kde_bandwith = None\n",
    "x_vals = np.linspace(0, 1, grid_size)\n",
    "y_vals = np.linspace(0, 1, grid_size)\n",
    "xx, yy = np.meshgrid(x_vals, y_vals)\n",
    "grid_points = np.vstack([xx.ravel(), yy.ravel()])\n",
    "joint_f = np.vstack([f1[f1>0], f2[f2>0]])\n",
    "kde = gaussian_kde(joint_f)\n",
    "\n",
    "pdf_vals = kde(grid_points) * (1 - p01) * (1 - p02)  # Adjusted joint KDE\n",
    "def safe_log(x):\n",
    "    return np.log2(x) if x > 0 else 0\n",
    "\n",
    "# Approximate joint entropy with summation\n",
    "dx = x_vals[1] - x_vals[0]\n",
    "dy = y_vals[1] - y_vals[0]\n",
    "pdf_vals[pdf_vals < 1e-10] = 1e-10 # instead of safe_log\n",
    "joint_entropy = -np.sum(pdf_vals * np.log2(pdf_vals)) * (x_vals[1] - x_vals[0]) * (y_vals[1] - y_vals[0])"
   ]
  },
  {
   "cell_type": "code",
   "execution_count": 6,
   "metadata": {},
   "outputs": [
    {
     "ename": "ValueError",
     "evalue": "all the input array dimensions except for the concatenation axis must match exactly, but along dimension 1, the array at index 0 has size 3 and the array at index 1 has size 5",
     "output_type": "error",
     "traceback": [
      "\u001b[1;31m---------------------------------------------------------------------------\u001b[0m",
      "\u001b[1;31mValueError\u001b[0m                                Traceback (most recent call last)",
      "Cell \u001b[1;32mIn[6], line 13\u001b[0m\n\u001b[0;32m     11\u001b[0m non_zero_x \u001b[38;5;241m=\u001b[39m x[x \u001b[38;5;241m>\u001b[39m \u001b[38;5;241m0\u001b[39m]\n\u001b[0;32m     12\u001b[0m non_zero_y \u001b[38;5;241m=\u001b[39m y[y \u001b[38;5;241m>\u001b[39m \u001b[38;5;241m0\u001b[39m]\n\u001b[1;32m---> 13\u001b[0m kde_xy \u001b[38;5;241m=\u001b[39m gaussian_kde(\u001b[43mnp\u001b[49m\u001b[38;5;241;43m.\u001b[39;49m\u001b[43mvstack\u001b[49m\u001b[43m(\u001b[49m\u001b[43m[\u001b[49m\u001b[43mnon_zero_x\u001b[49m\u001b[43m,\u001b[49m\u001b[43m \u001b[49m\u001b[43mnon_zero_y\u001b[49m\u001b[43m]\u001b[49m\u001b[43m)\u001b[49m)\n\u001b[0;32m     15\u001b[0m \u001b[38;5;66;03m# Grid for evaluation\u001b[39;00m\n\u001b[0;32m     16\u001b[0m grid_size \u001b[38;5;241m=\u001b[39m \u001b[38;5;241m100\u001b[39m\n",
      "File \u001b[1;32m<__array_function__ internals>:200\u001b[0m, in \u001b[0;36mvstack\u001b[1;34m(*args, **kwargs)\u001b[0m\n",
      "File \u001b[1;32mc:\\Users\\sergi\\anaconda3\\Lib\\site-packages\\numpy\\core\\shape_base.py:296\u001b[0m, in \u001b[0;36mvstack\u001b[1;34m(tup, dtype, casting)\u001b[0m\n\u001b[0;32m    294\u001b[0m \u001b[38;5;28;01mif\u001b[39;00m \u001b[38;5;129;01mnot\u001b[39;00m \u001b[38;5;28misinstance\u001b[39m(arrs, \u001b[38;5;28mlist\u001b[39m):\n\u001b[0;32m    295\u001b[0m     arrs \u001b[38;5;241m=\u001b[39m [arrs]\n\u001b[1;32m--> 296\u001b[0m \u001b[38;5;28;01mreturn\u001b[39;00m \u001b[43m_nx\u001b[49m\u001b[38;5;241;43m.\u001b[39;49m\u001b[43mconcatenate\u001b[49m\u001b[43m(\u001b[49m\u001b[43marrs\u001b[49m\u001b[43m,\u001b[49m\u001b[43m \u001b[49m\u001b[38;5;241;43m0\u001b[39;49m\u001b[43m,\u001b[49m\u001b[43m \u001b[49m\u001b[43mdtype\u001b[49m\u001b[38;5;241;43m=\u001b[39;49m\u001b[43mdtype\u001b[49m\u001b[43m,\u001b[49m\u001b[43m \u001b[49m\u001b[43mcasting\u001b[49m\u001b[38;5;241;43m=\u001b[39;49m\u001b[43mcasting\u001b[49m\u001b[43m)\u001b[49m\n",
      "File \u001b[1;32m<__array_function__ internals>:200\u001b[0m, in \u001b[0;36mconcatenate\u001b[1;34m(*args, **kwargs)\u001b[0m\n",
      "\u001b[1;31mValueError\u001b[0m: all the input array dimensions except for the concatenation axis must match exactly, but along dimension 1, the array at index 0 has size 3 and the array at index 1 has size 5"
     ]
    }
   ],
   "source": [
    "import numpy as np\n",
    "from scipy.stats import gaussian_kde\n",
    "\n",
    "# Example joint data\n",
    "x = np.array([0, 0, 0, 0.5, 0.8, 0.95])\n",
    "y = np.array([0.1, 0, 0.2, 0.6, 0.8, 1.0])\n",
    "\n",
    "# KDE and zero-inflation factors\n",
    "p0_x = np.mean(x == 0)\n",
    "p0_y = np.mean(y == 0)\n",
    "non_zero_x = x[x > 0]\n",
    "non_zero_y = y[y > 0]\n",
    "kde_xy = gaussian_kde(np.vstack([non_zero_x, non_zero_y]))\n",
    "\n",
    "# Grid for evaluation\n",
    "grid_size = 100\n",
    "x_vals = np.linspace(0, 1, grid_size)\n",
    "y_vals = np.linspace(0, 1, grid_size)\n",
    "xx, yy = np.meshgrid(x_vals, y_vals)\n",
    "grid_points = np.vstack([xx.ravel(), yy.ravel()])\n",
    "\n",
    "# Joint PDF with zero-inflation adjustment\n",
    "pdf_vals = kde_xy(grid_points).reshape(xx.shape) * (1 - p0_x) * (1 - p0_y)\n",
    "\n",
    "# Normalize the PDF\n",
    "pdf_vals /= np.sum(pdf_vals) * (x_vals[1] - x_vals[0]) * (y_vals[1] - y_vals[0])\n",
    "\n",
    "# Verify normalization\n",
    "assert np.isclose(np.sum(pdf_vals) * (x_vals[1] - x_vals[0]) * (y_vals[1] - y_vals[0]), 1.0)\n",
    "\n",
    "# Compute joint entropy\n",
    "pdf_vals[pdf_vals == 0] = 1e-10  # Avoid log(0)\n",
    "joint_entropy = -np.sum(pdf_vals * np.log(pdf_vals)) * (x_vals[1] - x_vals[0]) * (y_vals[1] - y_vals[0])\n",
    "\n",
    "print(\"Joint Entropy:\", joint_entropy)\n"
   ]
  },
  {
   "cell_type": "code",
   "execution_count": null,
   "metadata": {},
   "outputs": [
    {
     "name": "stdout",
     "output_type": "stream",
     "text": [
      "Data loaded. Shape: (3000, 2546). Proceeding to obtain indices for efficient ESS calculation.\n",
      "\n",
      "Indices obtained. Proceeding with calculating ESSs in parallel.\n",
      "\n",
      "Cores Available: 8\n",
      "Cores Used: 4\n"
     ]
    },
    {
     "data": {
      "application/vnd.jupyter.widget-view+json": {
       "model_id": "d0664eea3bbc45b1b71e059edfdaed62",
       "version_major": 2,
       "version_minor": 0
      },
      "text/plain": [
       "  0%|          | 0/2546 [00:00<?, ?it/s]"
      ]
     },
     "metadata": {},
     "output_type": "display_data"
    },
    {
     "name": "stdout",
     "output_type": "stream",
     "text": [
      "Calculations complete. Proceeding with matrix reconstruction.\n",
      "\n",
      "Matrix construction complete. Saving to dataframe.\n"
     ]
    }
   ],
   "source": [
    "#### Omega (Ω), the correlation metric, formerly Entropy Sort Score (ESS)\n",
    "from scipy.integrate import dblquad\n",
    "# The individual function to calculate the Omega scores for a given feature\n",
    "def cIFW_correlation(feature_ind, sign_comp, normalised_matrix, extra_vectors = False, zero_info = True, extra_info = False):\n",
    "    import numpy as np\n",
    "    import scipy\n",
    "    # get the list of significant features\n",
    "    sign_list = [feat[1] for feat in sign_comp if feat[0] == feature_ind][0]\n",
    "    MI_vector = []\n",
    "    S_q_vector = []\n",
    "    S_m_vector = []\n",
    "    f1 = np.array(normalised_matrix.iloc[:,feature_ind])\n",
    "    \n",
    "    # entropy function\n",
    "    def independent_entropy(feature, kde_bandwith = None):\n",
    "        # Probability of zero and data that is nonzero\n",
    "        p0 = np.sum(feature == 0) / len(feature) if len(feature) > 0 else 0\n",
    "        non_zero_data = feature[feature != 0]\n",
    "\n",
    "        # zero (H1)\n",
    "        def safe_log(x):\n",
    "            return np.log2(x) if x > 0 else 0\n",
    "        entropy_zero = -p0 * safe_log(p0)\n",
    "\n",
    "        # H2 (simplified)\n",
    "        # KDE for the non-zero part\n",
    "        kde = gaussian_kde(non_zero_data, bw_method=kde_bandwith)\n",
    "        x = np.linspace(-0.5*max(feature), max(feature)*1.5, 10000) #range expanded for normalisation check\n",
    "        print(f\"KDE normalisation check: {np.trapz(kde(x), x)}\")\n",
    "        # Simplified kde integration\n",
    "        def h_integrand(fx):\n",
    "            return fx * safe_log(fx)\n",
    "        def kde_integrand(x):\n",
    "            return kde(x) * safe_log(kde(x))\n",
    "        \n",
    "        kde_part_H2, _ = quad(kde_integrand, 0, max(feature))\n",
    "        entropy_non_zero = -h_integrand(1-p0) - (1-p0) * kde_part_H2 # simplified expression\n",
    "        \n",
    "        # Combined entropy\n",
    "        entropy = entropy_non_zero + entropy_zero\n",
    "        return entropy, p0\n",
    "    \n",
    "    H_f1, p01 = independent_entropy(f1)\n",
    "    if H_f1 > 0:\n",
    "        pass\n",
    "    else: # in the case a negative entropy is obtained, widen KDE bandwidth\n",
    "        it = 0\n",
    "        kde_bandwith = 0\n",
    "        while H_f1 < 0:\n",
    "            it += 1\n",
    "            kde_bandwith = kde_bandwith + 0.2\n",
    "            #print(f\"Negative entropy detected. Recalculating with kde bandwidth {kde_bandwith}.\")\n",
    "            H_f1 = independent_entropy(f1, kde_bandwith = kde_bandwith)\n",
    "            if it > 10:\n",
    "                #raise ValueError(f\"Could not find a suitable kde bandwidth for gene {feature_ind}.\")\n",
    "                break\n",
    "    \n",
    "    for i in sign_list:\n",
    "        #define feature 2\n",
    "        f2 = np.array(normalised_matrix.iloc[:,i])\n",
    "        \n",
    "        H_f2, p02 = independent_entropy(f2, kde_bandwith = kde_bandwith) #use the same kde bandwidth as for f1\n",
    "        if H_f2 > 0:\n",
    "            pass\n",
    "        else:\n",
    "            raise ValueError(f\"Could not find a suitable kde bandwidth for gene {i} that matches gene {feature_ind}.\")\n",
    "        \n",
    "        ################################################\n",
    "        \n",
    "        # calculate the joint entropy\n",
    "        \n",
    "        n00 = 0\n",
    "        n01 = 0\n",
    "        n10 = 0\n",
    "        n11 = 0\n",
    "        \n",
    "        if len(f1) != len(f2):\n",
    "            print(\"Fixed feature and features from matrix must be of the same length (same n of cells).\")\n",
    "        else:\n",
    "            c = len(f1)\n",
    "            for (cell1, cell2) in zip(f1, f2):\n",
    "                if cell1 == cell2:\n",
    "                    if cell1 == 0:\n",
    "                        n00 += 1\n",
    "                    elif cell1 == 1:\n",
    "                        n11 += 1\n",
    "                        \n",
    "                elif cell1 == 0:\n",
    "                    if cell2 == 1:\n",
    "                        n01 += 1\n",
    "                        \n",
    "                elif cell1 == 1:\n",
    "                    if cell2 == 0:\n",
    "                        n10 += 1\n",
    "                        \n",
    "        # check discretization\n",
    "        ns = np.array([n00, n01, n10, n11])\n",
    "        n_str = [\"n00\", \"n01\", \"n10\", \"n11\"]\n",
    "        nsum = np.sum(ns)\n",
    "        if nsum != c:\n",
    "            print(\"Sum of state counts do not add up.\")\n",
    "            MI = np.nan\n",
    "            S_q = np.nan\n",
    "            S_m = np.nan\n",
    "            \n",
    "        #calculate c's - need to have at least one of each\n",
    "        else:\n",
    "            #wrt to f1\n",
    "            c_m0 = n00 + n01\n",
    "            c_m1 = n10 + n11\n",
    "            #wrt to f2\n",
    "            c_q0 = n00 + n10\n",
    "            c_q1 = n01 + n11\n",
    "            \n",
    "            cs_MI = np.array([[c_m0, c_q0], [c_m0, c_q1],\n",
    "                              [c_m1, c_q0], [c_m1, c_q1]])\n",
    "            cs_S = np.array([[c_m0, c_m1],\n",
    "                             [c_q0, c_q1]])\n",
    "            \n",
    "            MI_terms = []\n",
    "            zeroterms = []\n",
    "            for ind, n in enumerate(ns):\n",
    "                if n != 0 & np.all(cs_MI[ind]) == False: #if n and both cs are nonzero, calculate\n",
    "                    MI_term = (n/c * np.log2(c * n / (cs_MI[ind][0] * cs_MI[ind][1])))\n",
    "                    MI_terms.append(MI_term)\n",
    "                    \n",
    "                else:\n",
    "                    zeroterms.append(n_str[ind])\n",
    "            MI = np.sum(MI_terms)\n",
    "            \n",
    "            # entropies separately\n",
    "            S_m_terms = []\n",
    "            S_q_terms = []\n",
    "            \n",
    "            for ind in range(len(cs_S)):\n",
    "                S_m_terms.append(cs_S[0][ind]/c * np.log2(cs_S[0][ind]/c))\n",
    "                S_q_terms.append(cs_S[1][ind]/c * np.log2(cs_S[1][ind]/c))\n",
    "                \n",
    "            S_m = np.sum(S_m_terms) * (-1)\n",
    "            S_q = np.sum(S_q_terms) * (-1)\n",
    "\n",
    "            if extra_info == True:     \n",
    "                exclude = str()\n",
    "                for t in zeroterms:\n",
    "                    exclude += (t + \", \")\n",
    "                print(\"Be aware that the counts \" + exclude + \"were 0. This affects the calculations.\")\n",
    "                \n",
    "        MI_vector.append(MI)\n",
    "        S_q_vector.append(S_q)\n",
    "        S_m_vector.append(S_m)\n",
    "    \n",
    "    max_entropy = [max(Sm, Sq) for Sm, Sq in zip(S_m_vector, S_q_vector)]\n",
    "    \n",
    "    #now calculate omega\n",
    "    if len(MI_vector) != len(max_entropy):\n",
    "        raise ValueError(\"All vectors (MI, x_max, S_q and S_m) must have the same length\")    \n",
    "\n",
    "    omega_vector = np.array(MI_vector) / np.array(max_entropy)\n",
    "    if extra_vectors == True:\n",
    "        return [omega_vector, MI_vector, max_entropy]            \n",
    "    else:\n",
    "        return [omega_vector]\n",
    "    \n",
    "    \n",
    "# The parallelised function to calculate the Omega for all features\n",
    "def parallel_bIFW_correlation(binarised_data, sign_matrix, Use_Cores=-1):\n",
    "    global binarised_dataset\n",
    "    binarised_dataset = binarised_data\n",
    "    print(f\"Data loaded. Shape: {binarised_dataset.shape}. Proceeding to obtain indices for efficient ESS calculation.\\n\")\n",
    "    nonzero = np.nonzero(sign_matrix.to_numpy())\n",
    "    sign_comp = []\n",
    "    for f in np.unique(nonzero[0]):\n",
    "        #print(f\"Gene {f} has a significant interaction with genes {nonzero[1][nonzero[0] == f]}\")\n",
    "        l = nonzero[1][nonzero[0] == f]\n",
    "        sign_comp.append([f,l])\n",
    "        #print(f\"Gene {f} has a significant interaction with {len(l)} genes\")\n",
    "    Feature_Inds = [feat[0] for feat in sign_comp]\n",
    "    print(f\"Indices obtained. Proceeding with calculating ESSs in parallel.\\n\")\n",
    "    \n",
    "    ## Identify number of cores to use.\n",
    "    Cores_Available = multiprocess.cpu_count()\n",
    "    print(\"Cores Available: \" + str(Cores_Available))\n",
    "    if Use_Cores == -1:\n",
    "        Use_Cores = Cores_Available - 1 # -1 Is an arbitrary buffer of idle cores that I set.\n",
    "        if Use_Cores < 1:\n",
    "            Use_Cores = 1\n",
    "    print(\"Cores Used: \" + str(Use_Cores))\n",
    "    ## Perform calculations\n",
    "    with np.errstate(divide='ignore',invalid='ignore'):\n",
    "        allscores = p_map(partial(bIFW_correlation, sign_comp=sign_comp, normalised_matrix=binarised_dataset), Feature_Inds, num_cpus=Use_Cores)\n",
    "    print(f\"Calculations complete. Proceeding with matrix reconstruction.\\n\")\n",
    "    omega = [row[0] for row in allscores]\n",
    "    \n",
    "    # Use allscores to build square matrix\n",
    "    n = binarised_dataset.shape[1]\n",
    "    indices = (nonzero[0], nonzero[1])\n",
    "    values = [value for sublist in omega for value in sublist]\n",
    "    # Initialize a zero matrix\n",
    "    matrix = np.zeros((n, n), dtype=float)\n",
    "    for row, col, value in zip(indices[0], indices[1], values):\n",
    "        #print(f\"Placing value {value} at position ({row}, {col})\")  # Debug print\n",
    "        matrix[row, col] = value\n",
    "    \n",
    "    print(\"Matrix construction complete. Saving to dataframe.\")\n",
    "    m = pd.DataFrame(matrix)\n",
    "    return allscores, m\n",
    "\n",
    "allscores, omega_matrix = parallel_bIFW_correlation(binarised_data=binarised_df, sign_matrix=chip_masked, Use_Cores=4)"
   ]
  }
 ],
 "metadata": {
  "kernelspec": {
   "display_name": "base",
   "language": "python",
   "name": "python3"
  },
  "language_info": {
   "codemirror_mode": {
    "name": "ipython",
    "version": 3
   },
   "file_extension": ".py",
   "mimetype": "text/x-python",
   "name": "python",
   "nbconvert_exporter": "python",
   "pygments_lexer": "ipython3",
   "version": "3.11.3"
  }
 },
 "nbformat": 4,
 "nbformat_minor": 2
}
